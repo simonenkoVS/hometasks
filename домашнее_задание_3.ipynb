{
  "nbformat": 4,
  "nbformat_minor": 0,
  "metadata": {
    "colab": {
      "provenance": []
    },
    "kernelspec": {
      "name": "python3",
      "display_name": "Python 3"
    },
    "language_info": {
      "name": "python"
    }
  },
  "cells": [
    {
      "cell_type": "markdown",
      "source": [
        "# Hometask"
      ],
      "metadata": {
        "id": "npytM_CFCLVp"
      }
    },
    {
      "cell_type": "markdown",
      "source": [
        "## Task 1\n",
        "\n",
        "Number of UMIs per cell in the dataset is distributed (approximately) bimodally. What is the reason for that? Please provide some papers and/or resourses when this phenomenon is described."
      ],
      "metadata": {
        "id": "wLRD9CFGsPUh"
      }
    },
    {
      "cell_type": "markdown",
      "source": [
        "1. Особенность материала: неоднородность самой выборки клеток, а она неоднородна почти всегда: из-за их размера, возраста, вида (в частности, так можно получить данные о новой разновидности клеток), получается что распределение будет иметь два пика.\n",
        "\n",
        "2. Особенность обработки материала: при подготовке получилось много пустых шариков, их плохо отфильтровали, часть клеток повредилась, остались только некоторые ее части, может у нас слишком маленький датасет и по этой причине дуплеты очень сильно влияют на распределение итоговых данных.\n",
        "\n",
        "Статьи, которые я нашла:\n",
        "\n",
        "1. https://hbctraining.github.io/scRNA-seq/lessons/04_SC_quality_control.html (в основном про gene detected per cell)\n",
        "\n",
        "2. Jiang, G., Tu, J., Zhou, L. et al. Single-cell transcriptomics reveal the heterogeneity and dynamic of cancer stem-like cells during breast tumor progression. Cell Death Dis 12, 979 (2021). https://doi.org/10.1038/s41419-021-04261-y\n",
        "\n",
        "3. Zhu, Q., Zhao, X., Zhang, Y. et al. Single cell multi-omics reveal intra-cell-line heterogeneity across human cancer cell lines. Nat Commun 14, 8170 (2023)\n",
        "\n",
        "-----------------\n",
        "\n",
        "4*. Daniel Andersson, Firaol Tamiru Kebede, Mandy Escobar, Tobias Österlund, Anders Ståhlberg,\n",
        "Principles of digital sequencing using unique molecular identifiers,\n",
        "Molecular Aspects of Medicine,\n",
        "Volume 96,\n",
        "2024,\n",
        "101253,\n",
        "ISSN 0098-2997,\n",
        "https://doi.org/10.1016/j.mam.2024.101253."
      ],
      "metadata": {
        "id": "DWX5_s2LkZqi"
      }
    },
    {
      "cell_type": "markdown",
      "source": [
        "## Task 2\n",
        "\n",
        "Using [Cellxgene Portal](https://cellxgene.cziscience.com/) please select the dataset of your scientific interest and perform QC. Are you happy with it? Please save files in `loom` format and describe the features of such a format."
      ],
      "metadata": {
        "id": "sveU7TybseS8"
      }
    },
    {
      "cell_type": "code",
      "source": [
        "!pip install scanpy[leiden] scrublet\n",
        "!gdown \"1Ctq4EmV2ps1dMiFcbqW467ywezRSGGN0&confirm=t\"\n",
        "!unzip PBMC_10k.zip\n",
        "\n",
        "import scanpy as sc\n",
        "import seaborn as sns\n",
        "import numpy as np"
      ],
      "metadata": {
        "colab": {
          "base_uri": "https://localhost:8080/"
        },
        "id": "6k2QQ_thRVdt",
        "outputId": "ec100550-104c-411c-be28-455627385086"
      },
      "execution_count": 1,
      "outputs": [
        {
          "output_type": "stream",
          "name": "stdout",
          "text": [
            "Collecting scanpy[leiden]\n",
            "  Downloading scanpy-1.10.2-py3-none-any.whl (2.1 MB)\n",
            "\u001b[2K     \u001b[90m━━━━━━━━━━━━━━━━━━━━━━━━━━━━━━━━━━━━━━━━\u001b[0m \u001b[32m2.1/2.1 MB\u001b[0m \u001b[31m10.4 MB/s\u001b[0m eta \u001b[36m0:00:00\u001b[0m\n",
            "\u001b[?25hCollecting scrublet\n",
            "  Downloading scrublet-0.2.3-py3-none-any.whl (15 kB)\n",
            "Collecting anndata>=0.8 (from scanpy[leiden])\n",
            "  Downloading anndata-0.10.8-py3-none-any.whl (124 kB)\n",
            "\u001b[2K     \u001b[90m━━━━━━━━━━━━━━━━━━━━━━━━━━━━━━━━━━━━━━━━\u001b[0m \u001b[32m124.4/124.4 kB\u001b[0m \u001b[31m10.6 MB/s\u001b[0m eta \u001b[36m0:00:00\u001b[0m\n",
            "\u001b[?25hRequirement already satisfied: h5py>=3.1 in /usr/local/lib/python3.10/dist-packages (from scanpy[leiden]) (3.9.0)\n",
            "Requirement already satisfied: joblib in /usr/local/lib/python3.10/dist-packages (from scanpy[leiden]) (1.4.2)\n",
            "Collecting legacy-api-wrap>=1.4 (from scanpy[leiden])\n",
            "  Downloading legacy_api_wrap-1.4-py3-none-any.whl (15 kB)\n",
            "Requirement already satisfied: matplotlib>=3.6 in /usr/local/lib/python3.10/dist-packages (from scanpy[leiden]) (3.7.1)\n",
            "Requirement already satisfied: natsort in /usr/local/lib/python3.10/dist-packages (from scanpy[leiden]) (8.4.0)\n",
            "Requirement already satisfied: networkx>=2.7 in /usr/local/lib/python3.10/dist-packages (from scanpy[leiden]) (3.3)\n",
            "Requirement already satisfied: numba>=0.56 in /usr/local/lib/python3.10/dist-packages (from scanpy[leiden]) (0.58.1)\n",
            "Requirement already satisfied: numpy<2,>=1.23 in /usr/local/lib/python3.10/dist-packages (from scanpy[leiden]) (1.25.2)\n",
            "Requirement already satisfied: packaging>=21.3 in /usr/local/lib/python3.10/dist-packages (from scanpy[leiden]) (24.1)\n",
            "Requirement already satisfied: pandas>=1.5 in /usr/local/lib/python3.10/dist-packages (from scanpy[leiden]) (2.0.3)\n",
            "Requirement already satisfied: patsy in /usr/local/lib/python3.10/dist-packages (from scanpy[leiden]) (0.5.6)\n",
            "Collecting pynndescent>=0.5 (from scanpy[leiden])\n",
            "  Downloading pynndescent-0.5.13-py3-none-any.whl (56 kB)\n",
            "\u001b[2K     \u001b[90m━━━━━━━━━━━━━━━━━━━━━━━━━━━━━━━━━━━━━━━━\u001b[0m \u001b[32m56.9/56.9 kB\u001b[0m \u001b[31m6.1 MB/s\u001b[0m eta \u001b[36m0:00:00\u001b[0m\n",
            "\u001b[?25hRequirement already satisfied: scikit-learn>=0.24 in /usr/local/lib/python3.10/dist-packages (from scanpy[leiden]) (1.2.2)\n",
            "Requirement already satisfied: scipy>=1.8 in /usr/local/lib/python3.10/dist-packages (from scanpy[leiden]) (1.11.4)\n",
            "Requirement already satisfied: seaborn>=0.13 in /usr/local/lib/python3.10/dist-packages (from scanpy[leiden]) (0.13.1)\n",
            "Collecting session-info (from scanpy[leiden])\n",
            "  Downloading session_info-1.0.0.tar.gz (24 kB)\n",
            "  Preparing metadata (setup.py) ... \u001b[?25l\u001b[?25hdone\n",
            "Requirement already satisfied: statsmodels>=0.13 in /usr/local/lib/python3.10/dist-packages (from scanpy[leiden]) (0.14.2)\n",
            "Requirement already satisfied: tqdm in /usr/local/lib/python3.10/dist-packages (from scanpy[leiden]) (4.66.4)\n",
            "Collecting umap-learn!=0.5.0,>=0.5 (from scanpy[leiden])\n",
            "  Downloading umap_learn-0.5.6-py3-none-any.whl (85 kB)\n",
            "\u001b[2K     \u001b[90m━━━━━━━━━━━━━━━━━━━━━━━━━━━━━━━━━━━━━━━━\u001b[0m \u001b[32m85.7/85.7 kB\u001b[0m \u001b[31m10.1 MB/s\u001b[0m eta \u001b[36m0:00:00\u001b[0m\n",
            "\u001b[?25hCollecting igraph>=0.10 (from scanpy[leiden])\n",
            "  Downloading igraph-0.11.6-cp39-abi3-manylinux_2_17_x86_64.manylinux2014_x86_64.whl (3.1 MB)\n",
            "\u001b[2K     \u001b[90m━━━━━━━━━━━━━━━━━━━━━━━━━━━━━━━━━━━━━━━━\u001b[0m \u001b[32m3.1/3.1 MB\u001b[0m \u001b[31m20.7 MB/s\u001b[0m eta \u001b[36m0:00:00\u001b[0m\n",
            "\u001b[?25hCollecting leidenalg>=0.9.0 (from scanpy[leiden])\n",
            "  Downloading leidenalg-0.10.2-cp38-abi3-manylinux_2_17_x86_64.manylinux2014_x86_64.whl (2.0 MB)\n",
            "\u001b[2K     \u001b[90m━━━━━━━━━━━━━━━━━━━━━━━━━━━━━━━━━━━━━━━━\u001b[0m \u001b[32m2.0/2.0 MB\u001b[0m \u001b[31m31.2 MB/s\u001b[0m eta \u001b[36m0:00:00\u001b[0m\n",
            "\u001b[?25hRequirement already satisfied: cython in /usr/local/lib/python3.10/dist-packages (from scrublet) (3.0.10)\n",
            "Requirement already satisfied: scikit-image in /usr/local/lib/python3.10/dist-packages (from scrublet) (0.19.3)\n",
            "Collecting annoy (from scrublet)\n",
            "  Downloading annoy-1.17.3.tar.gz (647 kB)\n",
            "\u001b[2K     \u001b[90m━━━━━━━━━━━━━━━━━━━━━━━━━━━━━━━━━━━━━━━━\u001b[0m \u001b[32m647.5/647.5 kB\u001b[0m \u001b[31m30.3 MB/s\u001b[0m eta \u001b[36m0:00:00\u001b[0m\n",
            "\u001b[?25h  Preparing metadata (setup.py) ... \u001b[?25l\u001b[?25hdone\n",
            "Collecting array-api-compat!=1.5,>1.4 (from anndata>=0.8->scanpy[leiden])\n",
            "  Downloading array_api_compat-1.7.1-py3-none-any.whl (37 kB)\n",
            "Requirement already satisfied: exceptiongroup in /usr/local/lib/python3.10/dist-packages (from anndata>=0.8->scanpy[leiden]) (1.2.1)\n",
            "Collecting texttable>=1.6.2 (from igraph>=0.10->scanpy[leiden])\n",
            "  Downloading texttable-1.7.0-py2.py3-none-any.whl (10 kB)\n",
            "Requirement already satisfied: contourpy>=1.0.1 in /usr/local/lib/python3.10/dist-packages (from matplotlib>=3.6->scanpy[leiden]) (1.2.1)\n",
            "Requirement already satisfied: cycler>=0.10 in /usr/local/lib/python3.10/dist-packages (from matplotlib>=3.6->scanpy[leiden]) (0.12.1)\n",
            "Requirement already satisfied: fonttools>=4.22.0 in /usr/local/lib/python3.10/dist-packages (from matplotlib>=3.6->scanpy[leiden]) (4.53.1)\n",
            "Requirement already satisfied: kiwisolver>=1.0.1 in /usr/local/lib/python3.10/dist-packages (from matplotlib>=3.6->scanpy[leiden]) (1.4.5)\n",
            "Requirement already satisfied: pillow>=6.2.0 in /usr/local/lib/python3.10/dist-packages (from matplotlib>=3.6->scanpy[leiden]) (9.4.0)\n",
            "Requirement already satisfied: pyparsing>=2.3.1 in /usr/local/lib/python3.10/dist-packages (from matplotlib>=3.6->scanpy[leiden]) (3.1.2)\n",
            "Requirement already satisfied: python-dateutil>=2.7 in /usr/local/lib/python3.10/dist-packages (from matplotlib>=3.6->scanpy[leiden]) (2.8.2)\n",
            "Requirement already satisfied: llvmlite<0.42,>=0.41.0dev0 in /usr/local/lib/python3.10/dist-packages (from numba>=0.56->scanpy[leiden]) (0.41.1)\n",
            "Requirement already satisfied: pytz>=2020.1 in /usr/local/lib/python3.10/dist-packages (from pandas>=1.5->scanpy[leiden]) (2023.4)\n",
            "Requirement already satisfied: tzdata>=2022.1 in /usr/local/lib/python3.10/dist-packages (from pandas>=1.5->scanpy[leiden]) (2024.1)\n",
            "Requirement already satisfied: threadpoolctl>=2.0.0 in /usr/local/lib/python3.10/dist-packages (from scikit-learn>=0.24->scanpy[leiden]) (3.5.0)\n",
            "Requirement already satisfied: six in /usr/local/lib/python3.10/dist-packages (from patsy->scanpy[leiden]) (1.16.0)\n",
            "Requirement already satisfied: imageio>=2.4.1 in /usr/local/lib/python3.10/dist-packages (from scikit-image->scrublet) (2.31.6)\n",
            "Requirement already satisfied: tifffile>=2019.7.26 in /usr/local/lib/python3.10/dist-packages (from scikit-image->scrublet) (2024.7.2)\n",
            "Requirement already satisfied: PyWavelets>=1.1.1 in /usr/local/lib/python3.10/dist-packages (from scikit-image->scrublet) (1.6.0)\n",
            "Collecting stdlib_list (from session-info->scanpy[leiden])\n",
            "  Downloading stdlib_list-0.10.0-py3-none-any.whl (79 kB)\n",
            "\u001b[2K     \u001b[90m━━━━━━━━━━━━━━━━━━━━━━━━━━━━━━━━━━━━━━━━\u001b[0m \u001b[32m79.8/79.8 kB\u001b[0m \u001b[31m10.5 MB/s\u001b[0m eta \u001b[36m0:00:00\u001b[0m\n",
            "\u001b[?25hBuilding wheels for collected packages: annoy, session-info\n",
            "  Building wheel for annoy (setup.py) ... \u001b[?25l\u001b[?25hdone\n",
            "  Created wheel for annoy: filename=annoy-1.17.3-cp310-cp310-linux_x86_64.whl size=552448 sha256=a8257e4332357de40e9658d20f32d0f760565c10dcc77a0d7f0dedcf274721cb\n",
            "  Stored in directory: /root/.cache/pip/wheels/64/8a/da/f714bcf46c5efdcfcac0559e63370c21abe961c48e3992465a\n",
            "  Building wheel for session-info (setup.py) ... \u001b[?25l\u001b[?25hdone\n",
            "  Created wheel for session-info: filename=session_info-1.0.0-py3-none-any.whl size=8026 sha256=6e66c70b559c7f8d19a6eb8f85e8879848e64f235d6f80aa4fbb38b4bad3c9bb\n",
            "  Stored in directory: /root/.cache/pip/wheels/6a/aa/b9/eb5d4031476ec10802795b97ccf937b9bd998d68a9b268765a\n",
            "Successfully built annoy session-info\n",
            "Installing collected packages: texttable, array-api-compat, annoy, stdlib_list, legacy-api-wrap, igraph, session-info, leidenalg, pynndescent, anndata, umap-learn, scrublet, scanpy\n",
            "Successfully installed anndata-0.10.8 annoy-1.17.3 array-api-compat-1.7.1 igraph-0.11.6 legacy-api-wrap-1.4 leidenalg-0.10.2 pynndescent-0.5.13 scanpy-1.10.2 scrublet-0.2.3 session-info-1.0.0 stdlib_list-0.10.0 texttable-1.7.0 umap-learn-0.5.6\n",
            "Downloading...\n",
            "From: https://drive.google.com/uc?id=1Ctq4EmV2ps1dMiFcbqW467ywezRSGGN0&confirm=t\n",
            "To: /content/PBMC_10k.zip\n",
            "100% 345M/345M [00:02<00:00, 145MB/s]\n",
            "Archive:  PBMC_10k.zip\n",
            "  inflating: filtered_feature_bc_matrix.h5  \n",
            "  inflating: filtered_feature_bc_matrix.tar.gz  \n",
            "  inflating: metrics_summary.csv     \n",
            "  inflating: raw_feature_bc_matrix.h5  \n",
            "  inflating: raw_feature_bc_matrix.tar.gz  \n",
            "  inflating: web_summary.html        \n"
          ]
        }
      ]
    },
    {
      "cell_type": "markdown",
      "source": [
        "Ссылка на страницу коллекцию: https://cellxgene.cziscience.com/collections/180bff9c-c8a5-4539-b13b-ddbc00d643e6"
      ],
      "metadata": {
        "id": "vv9GIZQjV8LP"
      }
    },
    {
      "cell_type": "code",
      "source": [
        "#загружаем дата сет\n",
        "\n",
        "!wget https://datasets.cellxgene.cziscience.com/455636fa-13c0-41ff-897d-c8a1fe1c7623.h5ad"
      ],
      "metadata": {
        "colab": {
          "base_uri": "https://localhost:8080/"
        },
        "id": "unWQl5A6RPmL",
        "outputId": "7704d25b-6b9c-4261-af06-7ad74571a9ac"
      },
      "execution_count": 2,
      "outputs": [
        {
          "output_type": "stream",
          "name": "stdout",
          "text": [
            "--2024-07-14 17:20:20--  https://datasets.cellxgene.cziscience.com/455636fa-13c0-41ff-897d-c8a1fe1c7623.h5ad\n",
            "Resolving datasets.cellxgene.cziscience.com (datasets.cellxgene.cziscience.com)... 13.226.210.55, 13.226.210.22, 13.226.210.38, ...\n",
            "Connecting to datasets.cellxgene.cziscience.com (datasets.cellxgene.cziscience.com)|13.226.210.55|:443... connected.\n",
            "HTTP request sent, awaiting response... 200 OK\n",
            "Length: 246709867 (235M) [binary/octet-stream]\n",
            "Saving to: ‘455636fa-13c0-41ff-897d-c8a1fe1c7623.h5ad’\n",
            "\n",
            "455636fa-13c0-41ff- 100%[===================>] 235.28M  30.8MB/s    in 8.3s    \n",
            "\n",
            "2024-07-14 17:20:29 (28.2 MB/s) - ‘455636fa-13c0-41ff-897d-c8a1fe1c7623.h5ad’ saved [246709867/246709867]\n",
            "\n"
          ]
        }
      ]
    },
    {
      "cell_type": "code",
      "source": [
        "#считываем его\n",
        "\n",
        "my_data = sc.read_h5ad('/content/455636fa-13c0-41ff-897d-c8a1fe1c7623.h5ad')\n",
        "my_data.var_names_make_unique()"
      ],
      "metadata": {
        "id": "THTZiqKQteZi"
      },
      "execution_count": 3,
      "outputs": []
    },
    {
      "cell_type": "code",
      "source": [
        "#посмотрели что внутри в частности на категории клеток\n",
        "print(my_data.obs.cell_type)"
      ],
      "metadata": {
        "colab": {
          "base_uri": "https://localhost:8080/"
        },
        "id": "ixTx3iOSSZ3o",
        "outputId": "7f86c145-9f2e-4501-ba78-310741a1d9f0"
      },
      "execution_count": 4,
      "outputs": [
        {
          "output_type": "stream",
          "name": "stdout",
          "text": [
            "SFG2_AAACCTGAGATGGCGT            oligodendrocyte\n",
            "SFG2_AAACCTGAGCGATCCC            oligodendrocyte\n",
            "SFG2_AAACCTGAGGAATCGC     mature microglial cell\n",
            "SFG2_AAACCTGAGGATGCGT            oligodendrocyte\n",
            "SFG2_AAACCTGAGGCACATG            oligodendrocyte\n",
            "                                   ...          \n",
            "SFG10_TTTGTCACATGACGGA    mature microglial cell\n",
            "SFG10_TTTGTCAGTGTGGTTT           oligodendrocyte\n",
            "SFG10_TTTGTCATCACGGTTA          GABAergic neuron\n",
            "SFG10_TTTGTCATCATACGGT           oligodendrocyte\n",
            "SFG10_TTTGTCATCTTCAACT          endothelial cell\n",
            "Name: cell_type, Length: 63608, dtype: category\n",
            "Categories (7, object): ['endothelial cell', 'oligodendrocyte', 'GABAergic neuron',\n",
            "                         'glutamatergic neuron', 'oligodendrocyte precursor cell', 'mature astrocyte',\n",
            "                         'mature microglial cell']\n"
          ]
        }
      ]
    },
    {
      "cell_type": "code",
      "source": [
        "#и еще посмотрели\n",
        "my_data.var"
      ],
      "metadata": {
        "colab": {
          "base_uri": "https://localhost:8080/",
          "height": 424
        },
        "id": "5KV-FX3oXBfV",
        "outputId": "d6971990-2b4c-424d-ea06-2da337f5245b"
      },
      "execution_count": 5,
      "outputs": [
        {
          "output_type": "execute_result",
          "data": {
            "text/plain": [
              "                 feature_is_filtered       feature_name feature_reference  \\\n",
              "ENSG00000100568                False              VTI1B    NCBITaxon:9606   \n",
              "ENSG00000101440                False               ASIP    NCBITaxon:9606   \n",
              "ENSG00000249847                False  ENSG00000249847.1    NCBITaxon:9606   \n",
              "ENSG00000136630                False                HLX    NCBITaxon:9606   \n",
              "ENSG00000231731                False  ENSG00000231731.7    NCBITaxon:9606   \n",
              "...                              ...                ...               ...   \n",
              "ENSG00000163162                False             RNF149    NCBITaxon:9606   \n",
              "ENSG00000185189                False              NRBP2    NCBITaxon:9606   \n",
              "ENSG00000188352                False              FOCAD    NCBITaxon:9606   \n",
              "ENSG00000008394                False              MGST1    NCBITaxon:9606   \n",
              "ENSG00000267658                False          RAB5C-AS1    NCBITaxon:9606   \n",
              "\n",
              "                feature_biotype feature_length  \n",
              "ENSG00000100568            gene           5768  \n",
              "ENSG00000101440            gene            845  \n",
              "ENSG00000249847            gene            646  \n",
              "ENSG00000136630            gene           5629  \n",
              "ENSG00000231731            gene           5510  \n",
              "...                         ...            ...  \n",
              "ENSG00000163162            gene           5326  \n",
              "ENSG00000185189            gene           4934  \n",
              "ENSG00000188352            gene           9754  \n",
              "ENSG00000008394            gene           7441  \n",
              "ENSG00000267658            gene            425  \n",
              "\n",
              "[32743 rows x 5 columns]"
            ],
            "text/html": [
              "\n",
              "  <div id=\"df-836e0d0f-4bbe-419f-8566-053f79decb50\" class=\"colab-df-container\">\n",
              "    <div>\n",
              "<style scoped>\n",
              "    .dataframe tbody tr th:only-of-type {\n",
              "        vertical-align: middle;\n",
              "    }\n",
              "\n",
              "    .dataframe tbody tr th {\n",
              "        vertical-align: top;\n",
              "    }\n",
              "\n",
              "    .dataframe thead th {\n",
              "        text-align: right;\n",
              "    }\n",
              "</style>\n",
              "<table border=\"1\" class=\"dataframe\">\n",
              "  <thead>\n",
              "    <tr style=\"text-align: right;\">\n",
              "      <th></th>\n",
              "      <th>feature_is_filtered</th>\n",
              "      <th>feature_name</th>\n",
              "      <th>feature_reference</th>\n",
              "      <th>feature_biotype</th>\n",
              "      <th>feature_length</th>\n",
              "    </tr>\n",
              "  </thead>\n",
              "  <tbody>\n",
              "    <tr>\n",
              "      <th>ENSG00000100568</th>\n",
              "      <td>False</td>\n",
              "      <td>VTI1B</td>\n",
              "      <td>NCBITaxon:9606</td>\n",
              "      <td>gene</td>\n",
              "      <td>5768</td>\n",
              "    </tr>\n",
              "    <tr>\n",
              "      <th>ENSG00000101440</th>\n",
              "      <td>False</td>\n",
              "      <td>ASIP</td>\n",
              "      <td>NCBITaxon:9606</td>\n",
              "      <td>gene</td>\n",
              "      <td>845</td>\n",
              "    </tr>\n",
              "    <tr>\n",
              "      <th>ENSG00000249847</th>\n",
              "      <td>False</td>\n",
              "      <td>ENSG00000249847.1</td>\n",
              "      <td>NCBITaxon:9606</td>\n",
              "      <td>gene</td>\n",
              "      <td>646</td>\n",
              "    </tr>\n",
              "    <tr>\n",
              "      <th>ENSG00000136630</th>\n",
              "      <td>False</td>\n",
              "      <td>HLX</td>\n",
              "      <td>NCBITaxon:9606</td>\n",
              "      <td>gene</td>\n",
              "      <td>5629</td>\n",
              "    </tr>\n",
              "    <tr>\n",
              "      <th>ENSG00000231731</th>\n",
              "      <td>False</td>\n",
              "      <td>ENSG00000231731.7</td>\n",
              "      <td>NCBITaxon:9606</td>\n",
              "      <td>gene</td>\n",
              "      <td>5510</td>\n",
              "    </tr>\n",
              "    <tr>\n",
              "      <th>...</th>\n",
              "      <td>...</td>\n",
              "      <td>...</td>\n",
              "      <td>...</td>\n",
              "      <td>...</td>\n",
              "      <td>...</td>\n",
              "    </tr>\n",
              "    <tr>\n",
              "      <th>ENSG00000163162</th>\n",
              "      <td>False</td>\n",
              "      <td>RNF149</td>\n",
              "      <td>NCBITaxon:9606</td>\n",
              "      <td>gene</td>\n",
              "      <td>5326</td>\n",
              "    </tr>\n",
              "    <tr>\n",
              "      <th>ENSG00000185189</th>\n",
              "      <td>False</td>\n",
              "      <td>NRBP2</td>\n",
              "      <td>NCBITaxon:9606</td>\n",
              "      <td>gene</td>\n",
              "      <td>4934</td>\n",
              "    </tr>\n",
              "    <tr>\n",
              "      <th>ENSG00000188352</th>\n",
              "      <td>False</td>\n",
              "      <td>FOCAD</td>\n",
              "      <td>NCBITaxon:9606</td>\n",
              "      <td>gene</td>\n",
              "      <td>9754</td>\n",
              "    </tr>\n",
              "    <tr>\n",
              "      <th>ENSG00000008394</th>\n",
              "      <td>False</td>\n",
              "      <td>MGST1</td>\n",
              "      <td>NCBITaxon:9606</td>\n",
              "      <td>gene</td>\n",
              "      <td>7441</td>\n",
              "    </tr>\n",
              "    <tr>\n",
              "      <th>ENSG00000267658</th>\n",
              "      <td>False</td>\n",
              "      <td>RAB5C-AS1</td>\n",
              "      <td>NCBITaxon:9606</td>\n",
              "      <td>gene</td>\n",
              "      <td>425</td>\n",
              "    </tr>\n",
              "  </tbody>\n",
              "</table>\n",
              "<p>32743 rows × 5 columns</p>\n",
              "</div>\n",
              "    <div class=\"colab-df-buttons\">\n",
              "\n",
              "  <div class=\"colab-df-container\">\n",
              "    <button class=\"colab-df-convert\" onclick=\"convertToInteractive('df-836e0d0f-4bbe-419f-8566-053f79decb50')\"\n",
              "            title=\"Convert this dataframe to an interactive table.\"\n",
              "            style=\"display:none;\">\n",
              "\n",
              "  <svg xmlns=\"http://www.w3.org/2000/svg\" height=\"24px\" viewBox=\"0 -960 960 960\">\n",
              "    <path d=\"M120-120v-720h720v720H120Zm60-500h600v-160H180v160Zm220 220h160v-160H400v160Zm0 220h160v-160H400v160ZM180-400h160v-160H180v160Zm440 0h160v-160H620v160ZM180-180h160v-160H180v160Zm440 0h160v-160H620v160Z\"/>\n",
              "  </svg>\n",
              "    </button>\n",
              "\n",
              "  <style>\n",
              "    .colab-df-container {\n",
              "      display:flex;\n",
              "      gap: 12px;\n",
              "    }\n",
              "\n",
              "    .colab-df-convert {\n",
              "      background-color: #E8F0FE;\n",
              "      border: none;\n",
              "      border-radius: 50%;\n",
              "      cursor: pointer;\n",
              "      display: none;\n",
              "      fill: #1967D2;\n",
              "      height: 32px;\n",
              "      padding: 0 0 0 0;\n",
              "      width: 32px;\n",
              "    }\n",
              "\n",
              "    .colab-df-convert:hover {\n",
              "      background-color: #E2EBFA;\n",
              "      box-shadow: 0px 1px 2px rgba(60, 64, 67, 0.3), 0px 1px 3px 1px rgba(60, 64, 67, 0.15);\n",
              "      fill: #174EA6;\n",
              "    }\n",
              "\n",
              "    .colab-df-buttons div {\n",
              "      margin-bottom: 4px;\n",
              "    }\n",
              "\n",
              "    [theme=dark] .colab-df-convert {\n",
              "      background-color: #3B4455;\n",
              "      fill: #D2E3FC;\n",
              "    }\n",
              "\n",
              "    [theme=dark] .colab-df-convert:hover {\n",
              "      background-color: #434B5C;\n",
              "      box-shadow: 0px 1px 3px 1px rgba(0, 0, 0, 0.15);\n",
              "      filter: drop-shadow(0px 1px 2px rgba(0, 0, 0, 0.3));\n",
              "      fill: #FFFFFF;\n",
              "    }\n",
              "  </style>\n",
              "\n",
              "    <script>\n",
              "      const buttonEl =\n",
              "        document.querySelector('#df-836e0d0f-4bbe-419f-8566-053f79decb50 button.colab-df-convert');\n",
              "      buttonEl.style.display =\n",
              "        google.colab.kernel.accessAllowed ? 'block' : 'none';\n",
              "\n",
              "      async function convertToInteractive(key) {\n",
              "        const element = document.querySelector('#df-836e0d0f-4bbe-419f-8566-053f79decb50');\n",
              "        const dataTable =\n",
              "          await google.colab.kernel.invokeFunction('convertToInteractive',\n",
              "                                                    [key], {});\n",
              "        if (!dataTable) return;\n",
              "\n",
              "        const docLinkHtml = 'Like what you see? Visit the ' +\n",
              "          '<a target=\"_blank\" href=https://colab.research.google.com/notebooks/data_table.ipynb>data table notebook</a>'\n",
              "          + ' to learn more about interactive tables.';\n",
              "        element.innerHTML = '';\n",
              "        dataTable['output_type'] = 'display_data';\n",
              "        await google.colab.output.renderOutput(dataTable, element);\n",
              "        const docLink = document.createElement('div');\n",
              "        docLink.innerHTML = docLinkHtml;\n",
              "        element.appendChild(docLink);\n",
              "      }\n",
              "    </script>\n",
              "  </div>\n",
              "\n",
              "\n",
              "<div id=\"df-e3842a97-e456-4aa0-a865-0a9e5992bbd6\">\n",
              "  <button class=\"colab-df-quickchart\" onclick=\"quickchart('df-e3842a97-e456-4aa0-a865-0a9e5992bbd6')\"\n",
              "            title=\"Suggest charts\"\n",
              "            style=\"display:none;\">\n",
              "\n",
              "<svg xmlns=\"http://www.w3.org/2000/svg\" height=\"24px\"viewBox=\"0 0 24 24\"\n",
              "     width=\"24px\">\n",
              "    <g>\n",
              "        <path d=\"M19 3H5c-1.1 0-2 .9-2 2v14c0 1.1.9 2 2 2h14c1.1 0 2-.9 2-2V5c0-1.1-.9-2-2-2zM9 17H7v-7h2v7zm4 0h-2V7h2v10zm4 0h-2v-4h2v4z\"/>\n",
              "    </g>\n",
              "</svg>\n",
              "  </button>\n",
              "\n",
              "<style>\n",
              "  .colab-df-quickchart {\n",
              "      --bg-color: #E8F0FE;\n",
              "      --fill-color: #1967D2;\n",
              "      --hover-bg-color: #E2EBFA;\n",
              "      --hover-fill-color: #174EA6;\n",
              "      --disabled-fill-color: #AAA;\n",
              "      --disabled-bg-color: #DDD;\n",
              "  }\n",
              "\n",
              "  [theme=dark] .colab-df-quickchart {\n",
              "      --bg-color: #3B4455;\n",
              "      --fill-color: #D2E3FC;\n",
              "      --hover-bg-color: #434B5C;\n",
              "      --hover-fill-color: #FFFFFF;\n",
              "      --disabled-bg-color: #3B4455;\n",
              "      --disabled-fill-color: #666;\n",
              "  }\n",
              "\n",
              "  .colab-df-quickchart {\n",
              "    background-color: var(--bg-color);\n",
              "    border: none;\n",
              "    border-radius: 50%;\n",
              "    cursor: pointer;\n",
              "    display: none;\n",
              "    fill: var(--fill-color);\n",
              "    height: 32px;\n",
              "    padding: 0;\n",
              "    width: 32px;\n",
              "  }\n",
              "\n",
              "  .colab-df-quickchart:hover {\n",
              "    background-color: var(--hover-bg-color);\n",
              "    box-shadow: 0 1px 2px rgba(60, 64, 67, 0.3), 0 1px 3px 1px rgba(60, 64, 67, 0.15);\n",
              "    fill: var(--button-hover-fill-color);\n",
              "  }\n",
              "\n",
              "  .colab-df-quickchart-complete:disabled,\n",
              "  .colab-df-quickchart-complete:disabled:hover {\n",
              "    background-color: var(--disabled-bg-color);\n",
              "    fill: var(--disabled-fill-color);\n",
              "    box-shadow: none;\n",
              "  }\n",
              "\n",
              "  .colab-df-spinner {\n",
              "    border: 2px solid var(--fill-color);\n",
              "    border-color: transparent;\n",
              "    border-bottom-color: var(--fill-color);\n",
              "    animation:\n",
              "      spin 1s steps(1) infinite;\n",
              "  }\n",
              "\n",
              "  @keyframes spin {\n",
              "    0% {\n",
              "      border-color: transparent;\n",
              "      border-bottom-color: var(--fill-color);\n",
              "      border-left-color: var(--fill-color);\n",
              "    }\n",
              "    20% {\n",
              "      border-color: transparent;\n",
              "      border-left-color: var(--fill-color);\n",
              "      border-top-color: var(--fill-color);\n",
              "    }\n",
              "    30% {\n",
              "      border-color: transparent;\n",
              "      border-left-color: var(--fill-color);\n",
              "      border-top-color: var(--fill-color);\n",
              "      border-right-color: var(--fill-color);\n",
              "    }\n",
              "    40% {\n",
              "      border-color: transparent;\n",
              "      border-right-color: var(--fill-color);\n",
              "      border-top-color: var(--fill-color);\n",
              "    }\n",
              "    60% {\n",
              "      border-color: transparent;\n",
              "      border-right-color: var(--fill-color);\n",
              "    }\n",
              "    80% {\n",
              "      border-color: transparent;\n",
              "      border-right-color: var(--fill-color);\n",
              "      border-bottom-color: var(--fill-color);\n",
              "    }\n",
              "    90% {\n",
              "      border-color: transparent;\n",
              "      border-bottom-color: var(--fill-color);\n",
              "    }\n",
              "  }\n",
              "</style>\n",
              "\n",
              "  <script>\n",
              "    async function quickchart(key) {\n",
              "      const quickchartButtonEl =\n",
              "        document.querySelector('#' + key + ' button');\n",
              "      quickchartButtonEl.disabled = true;  // To prevent multiple clicks.\n",
              "      quickchartButtonEl.classList.add('colab-df-spinner');\n",
              "      try {\n",
              "        const charts = await google.colab.kernel.invokeFunction(\n",
              "            'suggestCharts', [key], {});\n",
              "      } catch (error) {\n",
              "        console.error('Error during call to suggestCharts:', error);\n",
              "      }\n",
              "      quickchartButtonEl.classList.remove('colab-df-spinner');\n",
              "      quickchartButtonEl.classList.add('colab-df-quickchart-complete');\n",
              "    }\n",
              "    (() => {\n",
              "      let quickchartButtonEl =\n",
              "        document.querySelector('#df-e3842a97-e456-4aa0-a865-0a9e5992bbd6 button');\n",
              "      quickchartButtonEl.style.display =\n",
              "        google.colab.kernel.accessAllowed ? 'block' : 'none';\n",
              "    })();\n",
              "  </script>\n",
              "</div>\n",
              "    </div>\n",
              "  </div>\n"
            ],
            "application/vnd.google.colaboratory.intrinsic+json": {
              "type": "dataframe",
              "summary": "{\n  \"name\": \"my_data\",\n  \"rows\": 32743,\n  \"fields\": [\n    {\n      \"column\": \"feature_is_filtered\",\n      \"properties\": {\n        \"dtype\": \"boolean\",\n        \"num_unique_values\": 1,\n        \"samples\": [\n          false\n        ],\n        \"semantic_type\": \"\",\n        \"description\": \"\"\n      }\n    },\n    {\n      \"column\": \"feature_name\",\n      \"properties\": {\n        \"dtype\": \"category\",\n        \"num_unique_values\": 32743,\n        \"samples\": [\n          \"ZNF518A\"\n        ],\n        \"semantic_type\": \"\",\n        \"description\": \"\"\n      }\n    },\n    {\n      \"column\": \"feature_reference\",\n      \"properties\": {\n        \"dtype\": \"category\",\n        \"num_unique_values\": 1,\n        \"samples\": [\n          \"NCBITaxon:9606\"\n        ],\n        \"semantic_type\": \"\",\n        \"description\": \"\"\n      }\n    },\n    {\n      \"column\": \"feature_biotype\",\n      \"properties\": {\n        \"dtype\": \"category\",\n        \"num_unique_values\": 1,\n        \"samples\": [\n          \"gene\"\n        ],\n        \"semantic_type\": \"\",\n        \"description\": \"\"\n      }\n    },\n    {\n      \"column\": \"feature_length\",\n      \"properties\": {\n        \"dtype\": \"category\",\n        \"num_unique_values\": 10718,\n        \"samples\": [\n          7508\n        ],\n        \"semantic_type\": \"\",\n        \"description\": \"\"\n      }\n    }\n  ]\n}"
            }
          },
          "metadata": {},
          "execution_count": 5
        }
      ]
    },
    {
      "cell_type": "code",
      "source": [
        "#берем интересную нам категорию\n",
        "\n",
        "oli_data = my_data[my_data.obs.cell_type == 'oligodendrocyte']\n",
        "oli_data.shape"
      ],
      "metadata": {
        "colab": {
          "base_uri": "https://localhost:8080/"
        },
        "id": "O4Gekf8FWcqL",
        "outputId": "026e98b7-2907-4035-b457-666e65fe3fc3"
      },
      "execution_count": 6,
      "outputs": [
        {
          "output_type": "execute_result",
          "data": {
            "text/plain": [
              "(18360, 32743)"
            ]
          },
          "metadata": {},
          "execution_count": 6
        }
      ]
    },
    {
      "cell_type": "code",
      "source": [
        "sc.pp.calculate_qc_metrics(\n",
        "    oli_data,\n",
        "    inplace=True,\n",
        "    log1p=False,\n",
        "    percent_top=None,\n",
        ")"
      ],
      "metadata": {
        "id": "4myx3S8XWy6R",
        "colab": {
          "base_uri": "https://localhost:8080/"
        },
        "outputId": "501a92b3-422c-4c94-babd-9f7beb81e09c"
      },
      "execution_count": 7,
      "outputs": [
        {
          "output_type": "stream",
          "name": "stderr",
          "text": [
            "/usr/local/lib/python3.10/dist-packages/scanpy/preprocessing/_qc.py:141: ImplicitModificationWarning: Trying to modify attribute `.obs` of view, initializing view as actual.\n",
            "  adata.obs[obs_metrics.columns] = obs_metrics\n"
          ]
        }
      ]
    },
    {
      "cell_type": "code",
      "source": [
        "import matplotlib.pyplot as plt\n",
        "\n",
        "my_data1 = oli_data\n",
        "\n",
        "fig, axes = plt.subplots(ncols=2, nrows=1, figsize=(8, 6))\n",
        "\n",
        "sns.histplot(my_data1.obs.total_counts, ax=axes[0], bins=100)\n",
        "sns.histplot(my_data1.obs.n_genes_by_counts, ax=axes[1], bins=100)\n",
        "\n",
        "plt.suptitle(f\"total number of cells: {len(my_data1)}\")\n",
        "\n",
        "fig.tight_layout()"
      ],
      "metadata": {
        "id": "gLcoLCh8_e14",
        "colab": {
          "base_uri": "https://localhost:8080/",
          "height": 609
        },
        "outputId": "51fbb233-d111-48c8-f030-80dfcd145786"
      },
      "execution_count": 20,
      "outputs": [
        {
          "output_type": "display_data",
          "data": {
            "text/plain": [
              "<Figure size 800x600 with 2 Axes>"
            ],
            "image/png": "[encoded data removed]"
          },
          "metadata": {}
        }
      ]
    },
    {
      "cell_type": "code",
      "source": [
        "# Step 2: doublets filtration\n",
        "\n",
        "scrub = sc.pp.scrublet(my_data1)"
      ],
      "metadata": {
        "id": "07aj4Z72F8aF"
      },
      "execution_count": 30,
      "outputs": []
    },
    {
      "cell_type": "code",
      "source": [
        "#doublet_scores, predicted_doublets = scrub.scrub_doublets()"
      ],
      "metadata": {
        "colab": {
          "base_uri": "https://localhost:8080/",
          "height": 141
        },
        "id": "7mdLw5vcVZ1l",
        "outputId": "38a7fdd2-91d5-423c-9e7a-57db47900c1c"
      },
      "execution_count": 32,
      "outputs": [
        {
          "output_type": "error",
          "ename": "AttributeError",
          "evalue": "'NoneType' object has no attribute 'scrub_doublets'",
          "traceback": [
            "\u001b[0;31m---------------------------------------------------------------------------\u001b[0m",
            "\u001b[0;31mAttributeError\u001b[0m                            Traceback (most recent call last)",
            "\u001b[0;32m<ipython-input-32-68c00a85ed43>\u001b[0m in \u001b[0;36m<cell line: 1>\u001b[0;34m()\u001b[0m\n\u001b[0;32m----> 1\u001b[0;31m \u001b[0mdoublet_scores\u001b[0m\u001b[0;34m,\u001b[0m \u001b[0mpredicted_doublets\u001b[0m \u001b[0;34m=\u001b[0m \u001b[0mscrub\u001b[0m\u001b[0;34m.\u001b[0m\u001b[0mscrub_doublets\u001b[0m\u001b[0;34m(\u001b[0m\u001b[0;34m)\u001b[0m\u001b[0;34m\u001b[0m\u001b[0;34m\u001b[0m\u001b[0m\n\u001b[0m",
            "\u001b[0;31mAttributeError\u001b[0m: 'NoneType' object has no attribute 'scrub_doublets'"
          ]
        }
      ]
    },
    {
      "cell_type": "code",
      "source": [
        "# UMI per cell distribution\n",
        "\n",
        "counts_per_cell = my_data1.X.sum(axis=1).A.T[0]\n",
        "sns.histplot(counts_per_cell)"
      ],
      "metadata": {
        "id": "FAbYSsf2a3cp"
      },
      "execution_count": null,
      "outputs": []
    },
    {
      "cell_type": "markdown",
      "source": [
        "http://loompy.org/#:~:text=Loom%20files%20contain%20a%20main,MATLAB%2C%20Mathematica%2C%20and%20Julia.\n",
        "\n",
        "\n",
        "Key features:\n",
        "\n",
        "* Single file that can be moved around\n",
        "\n",
        "* Metadata travels with the main data\n",
        "\n",
        "* Data, clustering, layout, annotation stored together\n",
        "\n",
        "* Out-of-memory data processing\n",
        "\n",
        "* Open source\n"
      ],
      "metadata": {
        "id": "uRMrtKwsGYJZ"
      }
    },
    {
      "cell_type": "code",
      "source": [
        "!pip install -U loompy\n",
        "import loompy"
      ],
      "metadata": {
        "colab": {
          "base_uri": "https://localhost:8080/"
        },
        "id": "C54x3diZyRpr",
        "outputId": "1736f063-52ef-405d-acdc-8c4e36bc101d"
      },
      "execution_count": 15,
      "outputs": [
        {
          "output_type": "stream",
          "name": "stdout",
          "text": [
            "Collecting loompy\n",
            "  Downloading loompy-3.0.7.tar.gz (4.8 MB)\n",
            "\u001b[2K     \u001b[90m━━━━━━━━━━━━━━━━━━━━━━━━━━━━━━━━━━━━━━━━\u001b[0m \u001b[32m4.8/4.8 MB\u001b[0m \u001b[31m14.8 MB/s\u001b[0m eta \u001b[36m0:00:00\u001b[0m\n",
            "\u001b[?25h  Preparing metadata (setup.py) ... \u001b[?25l\u001b[?25hdone\n",
            "Requirement already satisfied: h5py in /usr/local/lib/python3.10/dist-packages (from loompy) (3.9.0)\n",
            "Requirement already satisfied: numpy in /usr/local/lib/python3.10/dist-packages (from loompy) (1.25.2)\n",
            "Requirement already satisfied: scipy in /usr/local/lib/python3.10/dist-packages (from loompy) (1.11.4)\n",
            "Requirement already satisfied: setuptools in /usr/local/lib/python3.10/dist-packages (from loompy) (67.7.2)\n",
            "Requirement already satisfied: numba in /usr/local/lib/python3.10/dist-packages (from loompy) (0.58.1)\n",
            "Requirement already satisfied: click in /usr/local/lib/python3.10/dist-packages (from loompy) (8.1.7)\n",
            "Collecting numpy-groupies (from loompy)\n",
            "  Downloading numpy_groupies-0.11.1-py3-none-any.whl (40 kB)\n",
            "\u001b[2K     \u001b[90m━━━━━━━━━━━━━━━━━━━━━━━━━━━━━━━━━━━━━━━━\u001b[0m \u001b[32m40.5/40.5 kB\u001b[0m \u001b[31m5.1 MB/s\u001b[0m eta \u001b[36m0:00:00\u001b[0m\n",
            "\u001b[?25hRequirement already satisfied: llvmlite<0.42,>=0.41.0dev0 in /usr/local/lib/python3.10/dist-packages (from numba->loompy) (0.41.1)\n",
            "Building wheels for collected packages: loompy\n",
            "  Building wheel for loompy (setup.py) ... \u001b[?25l\u001b[?25hdone\n",
            "  Created wheel for loompy: filename=loompy-3.0.7-py3-none-any.whl size=52019 sha256=a8486b073d88aacfe8bec27ffc724c95cf0b929599410ebf731ffd24ab2a9c5d\n",
            "  Stored in directory: /root/.cache/pip/wheels/2c/22/1f/792a4621bb631e538bf1c21feae9bbaa6b19fd6d6ab382d1fd\n",
            "Successfully built loompy\n",
            "Installing collected packages: numpy-groupies, loompy\n",
            "Successfully installed loompy-3.0.7 numpy-groupies-0.11.1\n"
          ]
        },
        {
          "output_type": "stream",
          "name": "stderr",
          "text": [
            "/usr/local/lib/python3.10/dist-packages/loompy/bus_file.py:68: NumbaDeprecationWarning: The 'nopython' keyword argument was not supplied to the 'numba.jit' decorator. The implicit default value for this argument is currently False, but it will be changed to True in Numba 0.59.0. See https://numba.readthedocs.io/en/stable/reference/deprecation.html#deprecation-of-object-mode-fall-back-behaviour-when-using-jit for details.\n",
            "  def twobit_to_dna(twobit: int, size: int) -> str:\n",
            "/usr/local/lib/python3.10/dist-packages/loompy/bus_file.py:85: NumbaDeprecationWarning: The 'nopython' keyword argument was not supplied to the 'numba.jit' decorator. The implicit default value for this argument is currently False, but it will be changed to True in Numba 0.59.0. See https://numba.readthedocs.io/en/stable/reference/deprecation.html#deprecation-of-object-mode-fall-back-behaviour-when-using-jit for details.\n",
            "  def dna_to_twobit(dna: str) -> int:\n",
            "/usr/local/lib/python3.10/dist-packages/loompy/bus_file.py:102: NumbaDeprecationWarning: The 'nopython' keyword argument was not supplied to the 'numba.jit' decorator. The implicit default value for this argument is currently False, but it will be changed to True in Numba 0.59.0. See https://numba.readthedocs.io/en/stable/reference/deprecation.html#deprecation-of-object-mode-fall-back-behaviour-when-using-jit for details.\n",
            "  def twobit_1hamming(twobit: int, size: int) -> List[int]:\n"
          ]
        }
      ]
    },
    {
      "cell_type": "code",
      "source": [
        "oli_data.write_loom(filename = 'new_file.loom', write_obsm_varm=True)"
      ],
      "metadata": {
        "id": "Yg22GtfkHNLQ"
      },
      "execution_count": 16,
      "outputs": []
    }
  ]
}