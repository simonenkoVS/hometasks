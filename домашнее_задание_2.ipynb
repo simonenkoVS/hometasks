{
  "cells": [
    {
      "cell_type": "markdown",
      "metadata": {
        "id": "rL3ZW1M8xQH9"
      },
      "source": [
        "# Workshop #4. Statistical analysis of bulk RNA-seq\n",
        "\n",
        "### Daniil Bobrovskiy, tg @daniilbobrovskiy"
      ]
    },
    {
      "cell_type": "markdown",
      "metadata": {
        "id": "Jtt0KSP0l8wD"
      },
      "source": [
        "## Introduction"
      ]
    },
    {
      "cell_type": "markdown",
      "metadata": {
        "id": "Ww5p7gHzJDkh"
      },
      "source": [
        "In this tutorial, we will analyze the bulk RNA-seq data from Walker et al., Scientific reports 2019 ([10.1038/s41598-019-56955-1](https://doi.org/10.1038/s41598-019-56955-1)). The goal of this study was to evaluate the changes in gene expression that occur during fibroblast to myofibroblast transdifferentiation in lungs. This transdifferentiation is known to occur in asthma and other lung diseases. Since it is also known that TGF-β can cause this process, the authors treated a culture of human lung fibroblasts with TGF-β to induce transdifferentiation.\n",
        "\n",
        "The data consists of 12 samples from the cultured cells: 6 treated and 6 untreated with TGF-β. In each group, 3 samples were sequenced at day 1 after seeding cells and treating with TGF-β, while 3 other samples - at day 10."
      ]
    },
    {
      "cell_type": "markdown",
      "source": [
        "Let's download the count matrix, which was already preprocessed by the authors, from the Gene Expression Omnibus (GEO)."
      ],
      "metadata": {
        "id": "k5QzNyaDzftr"
      }
    },
    {
      "cell_type": "markdown",
      "metadata": {
        "id": "MKBc_1DHfirY"
      },
      "source": [
        "It is important to note that a proper way to analyse RNA-seq data is to quantify the level of expression of different transcripts separately. After that, if the relative abundance of different isoforms is not of primary interest, the data can be aggregated to the gene-wise level, taking isoform lengths into account.\n",
        "\n",
        "There is an amazing tool to perform this aggregation, no matter which transcript quantification tool you have used. It is an R library **tximport**, which **you should always use in your RNA-seq analysis**. Its tutorial tells you how to import quantification results from different tools (salmon/kallisto/RSEM/...) and how to pass tximport resuts into downstream libraries for differential expression analysis (edgeR/DESeq2/limma-voom): https://bioconductor.org/packages/release/bioc/vignettes/tximport/inst/doc/tximport.html."
      ]
    },
    {
      "cell_type": "markdown",
      "source": [
        "However, the authors of the paper have simply calculated the counts for different genes and we will have to use this data in our tutorial."
      ],
      "metadata": {
        "id": "QH3l6_kqzvqI"
      }
    },
    {
      "cell_type": "code",
      "execution_count": 2,
      "metadata": {
        "colab": {
          "base_uri": "https://localhost:8080/"
        },
        "id": "9eHFZPutvINj",
        "outputId": "2154148f-8719-4b80-b4ff-fd6ee290f99d"
      },
      "outputs": [
        {
          "output_type": "stream",
          "name": "stdout",
          "text": [
            "--2024-06-05 13:42:42--  https://ftp.ncbi.nlm.nih.gov/geo/series/GSE110nnn/GSE110021/suppl/GSE110021%5Fcounts.Aug2015.txt.gz\n",
            "Resolving ftp.ncbi.nlm.nih.gov (ftp.ncbi.nlm.nih.gov)... 130.14.250.12, 130.14.250.7, 2607:f220:41e:250::11, ...\n",
            "Connecting to ftp.ncbi.nlm.nih.gov (ftp.ncbi.nlm.nih.gov)|130.14.250.12|:443... connected.\n",
            "HTTP request sent, awaiting response... 200 OK\n",
            "Length: 1067815 (1.0M) [application/x-gzip]\n",
            "Saving to: ‘GSE110021_counts.Aug2015.txt.gz’\n",
            "\n",
            "GSE110021_counts.Au 100%[===================>]   1.02M  6.35MB/s    in 0.2s    \n",
            "\n",
            "2024-06-05 13:42:43 (6.35 MB/s) - ‘GSE110021_counts.Aug2015.txt.gz’ saved [1067815/1067815]\n",
            "\n"
          ]
        }
      ],
      "source": [
        "# download data\n",
        "!wget https://ftp.ncbi.nlm.nih.gov/geo/series/GSE110nnn/GSE110021/suppl/GSE110021%5Fcounts.Aug2015.txt.gz\n",
        "\n",
        "# unzip count matrices\n",
        "!gunzip GSE110021_counts.Aug2015.txt.gz"
      ]
    },
    {
      "cell_type": "markdown",
      "metadata": {
        "id": "z_t8XyUVmB3v"
      },
      "source": [
        "Now, we will install and load the required packages. One of them is Rpy2, which allows us to work in R from GoogleColab. Actually, it even allows to pass the objects between Python and R, but we won't use this feature in this tutorial."
      ]
    },
    {
      "cell_type": "code",
      "execution_count": 3,
      "metadata": {
        "id": "86cZD7TuCJxG",
        "colab": {
          "base_uri": "https://localhost:8080/"
        },
        "outputId": "3036fa42-3217-491a-8860-d9fce4a31184"
      },
      "outputs": [
        {
          "output_type": "stream",
          "name": "stdout",
          "text": [
            "deb http://security.ubuntu.com/ubuntu focal-security main\n",
            "Get:1 https://cloud.r-project.org/bin/linux/ubuntu jammy-cran40/ InRelease [3,626 B]\n",
            "Get:2 https://developer.download.nvidia.com/compute/cuda/repos/ubuntu2204/x86_64  InRelease [1,581 B]\n",
            "Hit:3 http://archive.ubuntu.com/ubuntu jammy InRelease\n",
            "Get:4 http://security.ubuntu.com/ubuntu jammy-security InRelease [129 kB]\n",
            "Get:5 http://archive.ubuntu.com/ubuntu jammy-updates InRelease [128 kB]\n",
            "Hit:6 http://archive.ubuntu.com/ubuntu jammy-backports InRelease\n",
            "Hit:7 https://ppa.launchpadcontent.net/c2d4u.team/c2d4u4.0+/ubuntu jammy InRelease\n",
            "Get:8 https://developer.download.nvidia.com/compute/cuda/repos/ubuntu2204/x86_64  Packages [891 kB]\n",
            "Get:9 http://security.ubuntu.com/ubuntu focal-security InRelease [128 kB]\n",
            "Hit:10 https://ppa.launchpadcontent.net/deadsnakes/ppa/ubuntu jammy InRelease\n",
            "Get:11 https://ppa.launchpadcontent.net/graphics-drivers/ppa/ubuntu jammy InRelease [24.3 kB]\n",
            "Get:12 http://archive.ubuntu.com/ubuntu jammy-updates/universe amd64 Packages [1,386 kB]\n",
            "Hit:13 https://ppa.launchpadcontent.net/ubuntugis/ppa/ubuntu jammy InRelease\n",
            "Get:14 http://archive.ubuntu.com/ubuntu jammy-updates/main amd64 Packages [2,130 kB]\n",
            "Get:15 http://archive.ubuntu.com/ubuntu jammy-updates/multiverse amd64 Packages [51.5 kB]\n",
            "Get:16 http://security.ubuntu.com/ubuntu jammy-security/universe amd64 Packages [1,085 kB]\n",
            "Get:17 http://security.ubuntu.com/ubuntu jammy-security/main amd64 Packages [1,858 kB]\n",
            "Get:18 http://security.ubuntu.com/ubuntu focal-security/main amd64 Packages [3,675 kB]\n",
            "Fetched 11.5 MB in 3s (4,266 kB/s)\n",
            "Reading package lists... Done\n",
            "Reading package lists... Done\n",
            "Building dependency tree... Done\n",
            "Reading state information... Done\n",
            "The following additional packages will be installed:\n",
            "  gir1.2-harfbuzz-0.0 libblkid-dev libblkid1 libcairo-script-interpreter2 libffi-dev libglib2.0-dev\n",
            "  libglib2.0-dev-bin libgmp-dev libgmpxx4ldbl libgraphite2-dev libharfbuzz-gobject0\n",
            "  libharfbuzz-icu0 libice-dev liblzo2-2 libmount-dev libmount1 libpixman-1-dev libselinux1-dev\n",
            "  libsepol-dev libsm-dev libxcb-render0-dev libxcb-shm0-dev\n",
            "Suggested packages:\n",
            "  libcairo2-doc libgirepository1.0-dev libglib2.0-doc libgdk-pixbuf2.0-bin | libgdk-pixbuf2.0-dev\n",
            "  libxml2-utils gmp-doc libgmp10-doc libmpfr-dev libgraphite2-utils libice-doc cryptsetup-bin\n",
            "  libsm-doc\n",
            "The following NEW packages will be installed:\n",
            "  gir1.2-harfbuzz-0.0 libblkid-dev libcairo-script-interpreter2 libcairo2-dev libffi-dev\n",
            "  libfribidi-dev libglib2.0-dev libglib2.0-dev-bin libgmp-dev libgmp3-dev libgmpxx4ldbl\n",
            "  libgraphite2-dev libharfbuzz-dev libharfbuzz-gobject0 libharfbuzz-icu0 libice-dev liblzo2-2\n",
            "  libmount-dev libpixman-1-dev libselinux1-dev libsepol-dev libsm-dev libssl1.1 libxcb-render0-dev\n",
            "  libxcb-shm0-dev\n",
            "The following packages will be upgraded:\n",
            "  libblkid1 libmount1\n",
            "2 upgraded, 25 newly installed, 0 to remove and 44 not upgraded.\n",
            "Need to get 6,435 kB of archives.\n",
            "After this operation, 29.4 MB of additional disk space will be used.\n",
            "Get:1 http://archive.ubuntu.com/ubuntu jammy-updates/main amd64 libblkid1 amd64 2.37.2-4ubuntu3.4 [103 kB]\n",
            "Get:2 http://security.ubuntu.com/ubuntu focal-security/main amd64 libssl1.1 amd64 1.1.1f-1ubuntu2.22 [1,323 kB]\n",
            "Get:3 http://archive.ubuntu.com/ubuntu jammy-updates/main amd64 libmount1 amd64 2.37.2-4ubuntu3.4 [122 kB]\n",
            "Get:4 http://archive.ubuntu.com/ubuntu jammy-updates/main amd64 gir1.2-harfbuzz-0.0 amd64 2.7.4-1ubuntu3.1 [31.6 kB]\n",
            "Get:5 http://archive.ubuntu.com/ubuntu jammy/main amd64 liblzo2-2 amd64 2.10-2build3 [53.7 kB]\n",
            "Get:6 http://archive.ubuntu.com/ubuntu jammy/main amd64 libcairo-script-interpreter2 amd64 1.16.0-5ubuntu2 [62.0 kB]\n",
            "Get:7 http://archive.ubuntu.com/ubuntu jammy/main amd64 libice-dev amd64 2:1.0.10-1build2 [51.4 kB]\n",
            "Get:8 http://archive.ubuntu.com/ubuntu jammy/main amd64 libsm-dev amd64 2:1.2.3-1build2 [18.1 kB]\n",
            "Get:9 http://archive.ubuntu.com/ubuntu jammy-updates/main amd64 libpixman-1-dev amd64 0.40.0-1ubuntu0.22.04.1 [280 kB]\n",
            "Get:10 http://archive.ubuntu.com/ubuntu jammy/main amd64 libxcb-render0-dev amd64 1.14-3ubuntu3 [19.6 kB]\n",
            "Get:11 http://archive.ubuntu.com/ubuntu jammy/main amd64 libxcb-shm0-dev amd64 1.14-3ubuntu3 [6,848 B]\n",
            "Get:12 http://archive.ubuntu.com/ubuntu jammy/main amd64 libffi-dev amd64 3.4.2-4 [63.7 kB]\n",
            "Get:13 http://archive.ubuntu.com/ubuntu jammy-updates/main amd64 libglib2.0-dev-bin amd64 2.72.4-0ubuntu2.3 [117 kB]\n",
            "Get:14 http://archive.ubuntu.com/ubuntu jammy-updates/main amd64 libblkid-dev amd64 2.37.2-4ubuntu3.4 [185 kB]\n",
            "Get:15 http://archive.ubuntu.com/ubuntu jammy/main amd64 libsepol-dev amd64 3.3-1build1 [378 kB]\n",
            "Get:16 http://archive.ubuntu.com/ubuntu jammy/main amd64 libselinux1-dev amd64 3.3-1build2 [158 kB]\n",
            "Get:17 http://archive.ubuntu.com/ubuntu jammy-updates/main amd64 libmount-dev amd64 2.37.2-4ubuntu3.4 [14.5 kB]\n",
            "Get:18 http://archive.ubuntu.com/ubuntu jammy-updates/main amd64 libglib2.0-dev amd64 2.72.4-0ubuntu2.3 [1,743 kB]\n",
            "Get:19 http://archive.ubuntu.com/ubuntu jammy/main amd64 libcairo2-dev amd64 1.16.0-5ubuntu2 [692 kB]\n",
            "Get:20 http://archive.ubuntu.com/ubuntu jammy-updates/main amd64 libfribidi-dev amd64 1.0.8-2ubuntu3.1 [64.8 kB]\n",
            "Get:21 http://archive.ubuntu.com/ubuntu jammy/main amd64 libgmpxx4ldbl amd64 2:6.2.1+dfsg-3ubuntu1 [9,580 B]\n",
            "Get:22 http://archive.ubuntu.com/ubuntu jammy/main amd64 libgmp-dev amd64 2:6.2.1+dfsg-3ubuntu1 [337 kB]\n",
            "Get:23 http://archive.ubuntu.com/ubuntu jammy/main amd64 libgmp3-dev amd64 2:6.2.1+dfsg-3ubuntu1 [1,818 B]\n",
            "Get:24 http://archive.ubuntu.com/ubuntu jammy/main amd64 libgraphite2-dev amd64 1.3.14-1build2 [14.7 kB]\n",
            "Get:25 http://archive.ubuntu.com/ubuntu jammy-updates/main amd64 libharfbuzz-icu0 amd64 2.7.4-1ubuntu3.1 [5,886 B]\n",
            "Get:26 http://archive.ubuntu.com/ubuntu jammy-updates/main amd64 libharfbuzz-gobject0 amd64 2.7.4-1ubuntu3.1 [26.0 kB]\n",
            "Get:27 http://archive.ubuntu.com/ubuntu jammy-updates/main amd64 libharfbuzz-dev amd64 2.7.4-1ubuntu3.1 [553 kB]\n",
            "Fetched 6,435 kB in 1s (6,185 kB/s)\n",
            "Preconfiguring packages ...\n",
            "(Reading database ... 121918 files and directories currently installed.)\n",
            "Preparing to unpack .../libblkid1_2.37.2-4ubuntu3.4_amd64.deb ...\n",
            "Unpacking libblkid1:amd64 (2.37.2-4ubuntu3.4) over (2.37.2-4ubuntu3) ...\n",
            "Setting up libblkid1:amd64 (2.37.2-4ubuntu3.4) ...\n",
            "(Reading database ... 121918 files and directories currently installed.)\n",
            "Preparing to unpack .../libmount1_2.37.2-4ubuntu3.4_amd64.deb ...\n",
            "Unpacking libmount1:amd64 (2.37.2-4ubuntu3.4) over (2.37.2-4ubuntu3) ...\n",
            "Setting up libmount1:amd64 (2.37.2-4ubuntu3.4) ...\n",
            "Selecting previously unselected package libssl1.1:amd64.\n",
            "(Reading database ... 121918 files and directories currently installed.)\n",
            "Preparing to unpack .../00-libssl1.1_1.1.1f-1ubuntu2.22_amd64.deb ...\n",
            "Unpacking libssl1.1:amd64 (1.1.1f-1ubuntu2.22) ...\n",
            "Selecting previously unselected package gir1.2-harfbuzz-0.0:amd64.\n",
            "Preparing to unpack .../01-gir1.2-harfbuzz-0.0_2.7.4-1ubuntu3.1_amd64.deb ...\n",
            "Unpacking gir1.2-harfbuzz-0.0:amd64 (2.7.4-1ubuntu3.1) ...\n",
            "Selecting previously unselected package liblzo2-2:amd64.\n",
            "Preparing to unpack .../02-liblzo2-2_2.10-2build3_amd64.deb ...\n",
            "Unpacking liblzo2-2:amd64 (2.10-2build3) ...\n",
            "Selecting previously unselected package libcairo-script-interpreter2:amd64.\n",
            "Preparing to unpack .../03-libcairo-script-interpreter2_1.16.0-5ubuntu2_amd64.deb ...\n",
            "Unpacking libcairo-script-interpreter2:amd64 (1.16.0-5ubuntu2) ...\n",
            "Selecting previously unselected package libice-dev:amd64.\n",
            "Preparing to unpack .../04-libice-dev_2%3a1.0.10-1build2_amd64.deb ...\n",
            "Unpacking libice-dev:amd64 (2:1.0.10-1build2) ...\n",
            "Selecting previously unselected package libsm-dev:amd64.\n",
            "Preparing to unpack .../05-libsm-dev_2%3a1.2.3-1build2_amd64.deb ...\n",
            "Unpacking libsm-dev:amd64 (2:1.2.3-1build2) ...\n",
            "Selecting previously unselected package libpixman-1-dev:amd64.\n",
            "Preparing to unpack .../06-libpixman-1-dev_0.40.0-1ubuntu0.22.04.1_amd64.deb ...\n",
            "Unpacking libpixman-1-dev:amd64 (0.40.0-1ubuntu0.22.04.1) ...\n",
            "Selecting previously unselected package libxcb-render0-dev:amd64.\n",
            "Preparing to unpack .../07-libxcb-render0-dev_1.14-3ubuntu3_amd64.deb ...\n",
            "Unpacking libxcb-render0-dev:amd64 (1.14-3ubuntu3) ...\n",
            "Selecting previously unselected package libxcb-shm0-dev:amd64.\n",
            "Preparing to unpack .../08-libxcb-shm0-dev_1.14-3ubuntu3_amd64.deb ...\n",
            "Unpacking libxcb-shm0-dev:amd64 (1.14-3ubuntu3) ...\n",
            "Selecting previously unselected package libffi-dev:amd64.\n",
            "Preparing to unpack .../09-libffi-dev_3.4.2-4_amd64.deb ...\n",
            "Unpacking libffi-dev:amd64 (3.4.2-4) ...\n",
            "Selecting previously unselected package libglib2.0-dev-bin.\n",
            "Preparing to unpack .../10-libglib2.0-dev-bin_2.72.4-0ubuntu2.3_amd64.deb ...\n",
            "Unpacking libglib2.0-dev-bin (2.72.4-0ubuntu2.3) ...\n",
            "Selecting previously unselected package libblkid-dev:amd64.\n",
            "Preparing to unpack .../11-libblkid-dev_2.37.2-4ubuntu3.4_amd64.deb ...\n",
            "Unpacking libblkid-dev:amd64 (2.37.2-4ubuntu3.4) ...\n",
            "Selecting previously unselected package libsepol-dev:amd64.\n",
            "Preparing to unpack .../12-libsepol-dev_3.3-1build1_amd64.deb ...\n",
            "Unpacking libsepol-dev:amd64 (3.3-1build1) ...\n",
            "Selecting previously unselected package libselinux1-dev:amd64.\n",
            "Preparing to unpack .../13-libselinux1-dev_3.3-1build2_amd64.deb ...\n",
            "Unpacking libselinux1-dev:amd64 (3.3-1build2) ...\n",
            "Selecting previously unselected package libmount-dev:amd64.\n",
            "Preparing to unpack .../14-libmount-dev_2.37.2-4ubuntu3.4_amd64.deb ...\n",
            "Unpacking libmount-dev:amd64 (2.37.2-4ubuntu3.4) ...\n",
            "Selecting previously unselected package libglib2.0-dev:amd64.\n",
            "Preparing to unpack .../15-libglib2.0-dev_2.72.4-0ubuntu2.3_amd64.deb ...\n",
            "Unpacking libglib2.0-dev:amd64 (2.72.4-0ubuntu2.3) ...\n",
            "Selecting previously unselected package libcairo2-dev:amd64.\n",
            "Preparing to unpack .../16-libcairo2-dev_1.16.0-5ubuntu2_amd64.deb ...\n",
            "Unpacking libcairo2-dev:amd64 (1.16.0-5ubuntu2) ...\n",
            "Selecting previously unselected package libfribidi-dev:amd64.\n",
            "Preparing to unpack .../17-libfribidi-dev_1.0.8-2ubuntu3.1_amd64.deb ...\n",
            "Unpacking libfribidi-dev:amd64 (1.0.8-2ubuntu3.1) ...\n",
            "Selecting previously unselected package libgmpxx4ldbl:amd64.\n",
            "Preparing to unpack .../18-libgmpxx4ldbl_2%3a6.2.1+dfsg-3ubuntu1_amd64.deb ...\n",
            "Unpacking libgmpxx4ldbl:amd64 (2:6.2.1+dfsg-3ubuntu1) ...\n",
            "Selecting previously unselected package libgmp-dev:amd64.\n",
            "Preparing to unpack .../19-libgmp-dev_2%3a6.2.1+dfsg-3ubuntu1_amd64.deb ...\n",
            "Unpacking libgmp-dev:amd64 (2:6.2.1+dfsg-3ubuntu1) ...\n",
            "Selecting previously unselected package libgmp3-dev:amd64.\n",
            "Preparing to unpack .../20-libgmp3-dev_2%3a6.2.1+dfsg-3ubuntu1_amd64.deb ...\n",
            "Unpacking libgmp3-dev:amd64 (2:6.2.1+dfsg-3ubuntu1) ...\n",
            "Selecting previously unselected package libgraphite2-dev:amd64.\n",
            "Preparing to unpack .../21-libgraphite2-dev_1.3.14-1build2_amd64.deb ...\n",
            "Unpacking libgraphite2-dev:amd64 (1.3.14-1build2) ...\n",
            "Selecting previously unselected package libharfbuzz-icu0:amd64.\n",
            "Preparing to unpack .../22-libharfbuzz-icu0_2.7.4-1ubuntu3.1_amd64.deb ...\n",
            "Unpacking libharfbuzz-icu0:amd64 (2.7.4-1ubuntu3.1) ...\n",
            "Selecting previously unselected package libharfbuzz-gobject0:amd64.\n",
            "Preparing to unpack .../23-libharfbuzz-gobject0_2.7.4-1ubuntu3.1_amd64.deb ...\n",
            "Unpacking libharfbuzz-gobject0:amd64 (2.7.4-1ubuntu3.1) ...\n",
            "Selecting previously unselected package libharfbuzz-dev:amd64.\n",
            "Preparing to unpack .../24-libharfbuzz-dev_2.7.4-1ubuntu3.1_amd64.deb ...\n",
            "Unpacking libharfbuzz-dev:amd64 (2.7.4-1ubuntu3.1) ...\n",
            "Setting up libglib2.0-dev-bin (2.72.4-0ubuntu2.3) ...\n",
            "Setting up libblkid-dev:amd64 (2.37.2-4ubuntu3.4) ...\n",
            "Setting up libharfbuzz-icu0:amd64 (2.7.4-1ubuntu3.1) ...\n",
            "Setting up libpixman-1-dev:amd64 (0.40.0-1ubuntu0.22.04.1) ...\n",
            "Setting up libice-dev:amd64 (2:1.0.10-1build2) ...\n",
            "Setting up libsm-dev:amd64 (2:1.2.3-1build2) ...\n",
            "Setting up libssl1.1:amd64 (1.1.1f-1ubuntu2.22) ...\n",
            "Setting up libfribidi-dev:amd64 (1.0.8-2ubuntu3.1) ...\n",
            "Setting up liblzo2-2:amd64 (2.10-2build3) ...\n",
            "Setting up libharfbuzz-gobject0:amd64 (2.7.4-1ubuntu3.1) ...\n",
            "Setting up libffi-dev:amd64 (3.4.2-4) ...\n",
            "Setting up gir1.2-harfbuzz-0.0:amd64 (2.7.4-1ubuntu3.1) ...\n",
            "Setting up libxcb-shm0-dev:amd64 (1.14-3ubuntu3) ...\n",
            "Setting up libgraphite2-dev:amd64 (1.3.14-1build2) ...\n",
            "Setting up libgmpxx4ldbl:amd64 (2:6.2.1+dfsg-3ubuntu1) ...\n",
            "Setting up libsepol-dev:amd64 (3.3-1build1) ...\n",
            "Setting up libxcb-render0-dev:amd64 (1.14-3ubuntu3) ...\n",
            "Setting up libcairo-script-interpreter2:amd64 (1.16.0-5ubuntu2) ...\n",
            "Setting up libgmp-dev:amd64 (2:6.2.1+dfsg-3ubuntu1) ...\n",
            "Setting up libselinux1-dev:amd64 (3.3-1build2) ...\n",
            "Setting up libgmp3-dev:amd64 (2:6.2.1+dfsg-3ubuntu1) ...\n",
            "Setting up libmount-dev:amd64 (2.37.2-4ubuntu3.4) ...\n",
            "Setting up libglib2.0-dev:amd64 (2.72.4-0ubuntu2.3) ...\n",
            "Processing triggers for libglib2.0-0:amd64 (2.72.4-0ubuntu2.3) ...\n",
            "Processing triggers for libc-bin (2.35-0ubuntu3.4) ...\n",
            "/sbin/ldconfig.real: /usr/local/lib/libtbbmalloc.so.2 is not a symbolic link\n",
            "\n",
            "/sbin/ldconfig.real: /usr/local/lib/libtbbbind_2_5.so.3 is not a symbolic link\n",
            "\n",
            "/sbin/ldconfig.real: /usr/local/lib/libtbbbind_2_0.so.3 is not a symbolic link\n",
            "\n",
            "/sbin/ldconfig.real: /usr/local/lib/libtbbbind.so.3 is not a symbolic link\n",
            "\n",
            "/sbin/ldconfig.real: /usr/local/lib/libtbb.so.12 is not a symbolic link\n",
            "\n",
            "/sbin/ldconfig.real: /usr/local/lib/libtbbmalloc_proxy.so.2 is not a symbolic link\n",
            "\n",
            "Processing triggers for man-db (2.10.2-1) ...\n",
            "Setting up libcairo2-dev:amd64 (1.16.0-5ubuntu2) ...\n",
            "Setting up libharfbuzz-dev:amd64 (2.7.4-1ubuntu3.1) ...\n",
            "Requirement already satisfied: gdown in /usr/local/lib/python3.10/dist-packages (5.1.0)\n",
            "Collecting gdown\n",
            "  Downloading gdown-5.2.0-py3-none-any.whl (18 kB)\n",
            "Requirement already satisfied: beautifulsoup4 in /usr/local/lib/python3.10/dist-packages (from gdown) (4.12.3)\n",
            "Requirement already satisfied: filelock in /usr/local/lib/python3.10/dist-packages (from gdown) (3.14.0)\n",
            "Requirement already satisfied: requests[socks] in /usr/local/lib/python3.10/dist-packages (from gdown) (2.31.0)\n",
            "Requirement already satisfied: tqdm in /usr/local/lib/python3.10/dist-packages (from gdown) (4.66.4)\n",
            "Requirement already satisfied: soupsieve>1.2 in /usr/local/lib/python3.10/dist-packages (from beautifulsoup4->gdown) (2.5)\n",
            "Requirement already satisfied: charset-normalizer<4,>=2 in /usr/local/lib/python3.10/dist-packages (from requests[socks]->gdown) (3.3.2)\n",
            "Requirement already satisfied: idna<4,>=2.5 in /usr/local/lib/python3.10/dist-packages (from requests[socks]->gdown) (3.7)\n",
            "Requirement already satisfied: urllib3<3,>=1.21.1 in /usr/local/lib/python3.10/dist-packages (from requests[socks]->gdown) (2.0.7)\n",
            "Requirement already satisfied: certifi>=2017.4.17 in /usr/local/lib/python3.10/dist-packages (from requests[socks]->gdown) (2024.2.2)\n",
            "Requirement already satisfied: PySocks!=1.5.7,>=1.5.6 in /usr/local/lib/python3.10/dist-packages (from requests[socks]->gdown) (1.7.1)\n",
            "Installing collected packages: gdown\n",
            "  Attempting uninstall: gdown\n",
            "    Found existing installation: gdown 5.1.0\n",
            "    Uninstalling gdown-5.1.0:\n",
            "      Successfully uninstalled gdown-5.1.0\n",
            "Successfully installed gdown-5.2.0\n",
            "Downloading...\n",
            "From (original): https://drive.google.com/uc?id=1XAbJa_suP-WFTKK628oM9EWsV7k-6fI9\n",
            "From (redirected): https://drive.google.com/uc?id=1XAbJa_suP-WFTKK628oM9EWsV7k-6fI9&confirm=t&uuid=b54c0852-bb2e-4954-bf61-795bd8da03f4\n",
            "To: /content/library.tar.gz\n",
            "100% 2.95G/2.95G [00:33<00:00, 87.8MB/s]\n",
            "Downloading...\n",
            "From: https://drive.google.com/uc?id=1Bt4HDrZqFId_7Ph99pSvhfFHxyrV-kaL\n",
            "To: /content/biomart_hg19_ensembl75.tsv\n",
            "100% 22.1M/22.1M [00:00<00:00, 104MB/s]\n",
            "tar: Removing leading `/' from member names\n"
          ]
        }
      ],
      "source": [
        "!echo \"deb http://security.ubuntu.com/ubuntu focal-security main\" | sudo tee /etc/apt/sources.list.d/focal-security.list\n",
        "!apt-get update\n",
        "!apt-get install libgmp3-dev libcairo2-dev libharfbuzz-dev libfribidi-dev libssl1.1\n",
        "\n",
        "!pip install --upgrade gdown\n",
        "!gdown 1XAbJa_suP-WFTKK628oM9EWsV7k-6fI9\n",
        "!gdown 1Bt4HDrZqFId_7Ph99pSvhfFHxyrV-kaL\n",
        "!tar xf library.tar.gz"
      ]
    },
    {
      "cell_type": "code",
      "execution_count": 4,
      "metadata": {
        "id": "p0IYP53LwY5_",
        "colab": {
          "base_uri": "https://localhost:8080/"
        },
        "outputId": "cb17cb0a-90ec-4965-ca22-f6ed01af680b"
      },
      "outputs": [
        {
          "output_type": "stream",
          "name": "stdout",
          "text": [
            "Installing package into ‘/usr/local/lib/R/site-library’\n",
            "(as ‘lib’ is unspecified)\n",
            "trying URL 'https://cran.rstudio.com/src/contrib/statmod_1.5.0.tar.gz'\n",
            "Content type 'application/x-gzip' length 92486 bytes (90 KB)\n",
            "==================================================\n",
            "downloaded 90 KB\n",
            "\n",
            "* installing *source* package ‘statmod’ ...\n",
            "** package ‘statmod’ successfully unpacked and MD5 sums checked\n",
            "** using staged installation\n",
            "** libs\n",
            "using C compiler: ‘gcc (Ubuntu 11.4.0-1ubuntu1~22.04) 11.4.0’\n",
            "using Fortran compiler: ‘GNU Fortran (Ubuntu 11.4.0-1ubuntu1~22.04) 11.4.0’\n",
            "gcc -I\"/usr/share/R/include\" -DNDEBUG       -fpic  -g -O2 -ffile-prefix-map=/build/r-base-H8urij/r-base-4.4.0=. -fstack-protector-strong -Wformat -Werror=format-security -Wdate-time -D_FORTIFY_SOURCE=2  -c expectedDeviance.c -o expectedDeviance.o\n",
            "gfortran  -fpic  -g -O2 -ffile-prefix-map=/build/r-base-H8urij/r-base-4.4.0=. -fstack-protector-strong  -c gaussq2.f -o gaussq2.o\n",
            "gcc -I\"/usr/share/R/include\" -DNDEBUG       -fpic  -g -O2 -ffile-prefix-map=/build/r-base-H8urij/r-base-4.4.0=. -fstack-protector-strong -Wformat -Werror=format-security -Wdate-time -D_FORTIFY_SOURCE=2  -c init.c -o init.o\n",
            "gcc -shared -L/usr/lib/R/lib -Wl,-Bsymbolic-functions -flto=auto -ffat-lto-objects -flto=auto -Wl,-z,relro -o statmod.so expectedDeviance.o gaussq2.o init.o -lgfortran -lm -lquadmath -L/usr/lib/R/lib -lR\n",
            "installing to /usr/local/lib/R/site-library/00LOCK-statmod/00new/statmod/libs\n",
            "** R\n",
            "** data\n",
            "** inst\n",
            "** byte-compile and prepare package for lazy loading\n",
            "** help\n",
            "*** installing help indices\n",
            "** building package indices\n",
            "** testing if installed package can be loaded from temporary location\n",
            "** checking absolute paths in shared objects and dynamic libraries\n",
            "** testing if installed package can be loaded from final location\n",
            "** testing if installed package keeps a record of temporary installation path\n",
            "* DONE (statmod)\n",
            "\n",
            "The downloaded source packages are in\n",
            "\t‘/tmp/Rtmpw3l8nK/downloaded_packages’\n",
            "Installing package into ‘/usr/local/lib/R/site-library’\n",
            "(as ‘lib’ is unspecified)\n",
            "also installing the dependencies ‘formatR’, ‘lambda.r’, ‘futile.options’, ‘futile.logger’\n",
            "\n",
            "trying URL 'https://cran.rstudio.com/src/contrib/formatR_1.14.tar.gz'\n",
            "Content type 'application/x-gzip' length 96077 bytes (93 KB)\n",
            "==================================================\n",
            "downloaded 93 KB\n",
            "\n",
            "trying URL 'https://cran.rstudio.com/src/contrib/lambda.r_1.2.4.tar.gz'\n",
            "Content type 'application/x-gzip' length 25666 bytes (25 KB)\n",
            "==================================================\n",
            "downloaded 25 KB\n",
            "\n",
            "trying URL 'https://cran.rstudio.com/src/contrib/futile.options_1.0.1.tar.gz'\n",
            "Content type 'application/x-gzip' length 3919 bytes\n",
            "==================================================\n",
            "downloaded 3919 bytes\n",
            "\n",
            "trying URL 'https://cran.rstudio.com/src/contrib/futile.logger_1.4.3.tar.gz'\n",
            "Content type 'application/x-gzip' length 17456 bytes (17 KB)\n",
            "==================================================\n",
            "downloaded 17 KB\n",
            "\n",
            "trying URL 'https://cran.rstudio.com/src/contrib/VennDiagram_1.7.3.tar.gz'\n",
            "Content type 'application/x-gzip' length 78508 bytes (76 KB)\n",
            "==================================================\n",
            "downloaded 76 KB\n",
            "\n",
            "* installing *source* package ‘formatR’ ...\n",
            "** package ‘formatR’ successfully unpacked and MD5 sums checked\n",
            "** using staged installation\n",
            "** R\n",
            "** inst\n",
            "** byte-compile and prepare package for lazy loading\n",
            "** help\n",
            "*** installing help indices\n",
            "** building package indices\n",
            "** installing vignettes\n",
            "** testing if installed package can be loaded from temporary location\n",
            "** testing if installed package can be loaded from final location\n",
            "** testing if installed package keeps a record of temporary installation path\n",
            "* DONE (formatR)\n",
            "* installing *source* package ‘futile.options’ ...\n",
            "** package ‘futile.options’ successfully unpacked and MD5 sums checked\n",
            "** using staged installation\n",
            "** R\n",
            "** byte-compile and prepare package for lazy loading\n",
            "** help\n",
            "*** installing help indices\n",
            "** building package indices\n",
            "** testing if installed package can be loaded from temporary location\n",
            "** testing if installed package can be loaded from final location\n",
            "** testing if installed package keeps a record of temporary installation path\n",
            "* DONE (futile.options)\n",
            "* installing *source* package ‘lambda.r’ ...\n",
            "** package ‘lambda.r’ successfully unpacked and MD5 sums checked\n",
            "** using staged installation\n",
            "** R\n",
            "** byte-compile and prepare package for lazy loading\n",
            "** help\n",
            "*** installing help indices\n",
            "** building package indices\n",
            "** testing if installed package can be loaded from temporary location\n",
            "** testing if installed package can be loaded from final location\n",
            "** testing if installed package keeps a record of temporary installation path\n",
            "* DONE (lambda.r)\n",
            "* installing *source* package ‘futile.logger’ ...\n",
            "** package ‘futile.logger’ successfully unpacked and MD5 sums checked\n",
            "** using staged installation\n",
            "** R\n",
            "** byte-compile and prepare package for lazy loading\n",
            "** help\n",
            "*** installing help indices\n",
            "** building package indices\n",
            "** testing if installed package can be loaded from temporary location\n",
            "** testing if installed package can be loaded from final location\n",
            "** testing if installed package keeps a record of temporary installation path\n",
            "* DONE (futile.logger)\n",
            "* installing *source* package ‘VennDiagram’ ...\n",
            "** package ‘VennDiagram’ successfully unpacked and MD5 sums checked\n",
            "** using staged installation\n",
            "** R\n",
            "** data\n",
            "** byte-compile and prepare package for lazy loading\n",
            "** help\n",
            "*** installing help indices\n",
            "** building package indices\n",
            "** testing if installed package can be loaded from temporary location\n",
            "** testing if installed package can be loaded from final location\n",
            "** testing if installed package keeps a record of temporary installation path\n",
            "* DONE (VennDiagram)\n",
            "\n",
            "The downloaded source packages are in\n",
            "\t‘/tmp/RtmpcYio3x/downloaded_packages’\n"
          ]
        }
      ],
      "source": [
        "%load_ext rpy2.ipython\n",
        "%R .libPaths(\"usr/local/lib/R/site-library/\")\n",
        "!Rscript -e 'install.packages(\"statmod\")'\n",
        "!Rscript -e 'install.packages(\"VennDiagram\")'"
      ]
    },
    {
      "cell_type": "code",
      "execution_count": 5,
      "metadata": {
        "id": "pwViXbtcjIxh"
      },
      "outputs": [],
      "source": [
        "%%R\n",
        "\n",
        "suppressPackageStartupMessages({\n",
        "  library(ggplot2)\n",
        "  library(ggrepel)\n",
        "  library(stringr)\n",
        "  library(dplyr)\n",
        "  library(edgeR)\n",
        "})"
      ]
    },
    {
      "cell_type": "markdown",
      "source": [
        "## Differential expression in edgeR\n",
        "\n",
        "Another preprocessing step that is often done prior to DE analysis is the removal of all non-coding RNAs. If you want to do it, the easiest way is to load the transcript annotations corresponding to your transcriptome/genome versions from BioMart (https://www.ensembl.org/info/data/biomart/index.html). Often, if your data were mapped using not the latest annotation version, you should first go to Ensembl Archive (https://www.ensembl.org/info/website/archives/index.html), find a matching version and open BioMart from there.\n",
        "\n",
        "In BioMart, you should select \"Gene type\" in the desired exported attributes together with the IDs needed to match your data to the resulting table. Once you obtained the table, you can simply filter your dataset to contain only \"protein_coding\" genes.\n",
        "\n",
        "In addition to that, it is often desirable to convert unreadable ENSEMBL IDs to conventional gene names. This can be done by including the \"Gene name\" attribute to the BioMart export."
      ],
      "metadata": {
        "id": "yi3ce_0GM6LP"
      }
    },
    {
      "cell_type": "code",
      "source": [
        "%%R\n",
        "# load data; since the authors didn't merge the lanes, we'll have to do it ourselves\n",
        "counts <- read.table(\"GSE110021_counts.Aug2015.txt\")\n",
        "counts <- data.frame(D1_cont_1=rowSums(select(counts, starts_with(\"D1.noTGFb.1\"))),\n",
        "                     D1_cont_2=rowSums(select(counts, starts_with(\"D1.noTGFb.2\"))),\n",
        "                     D1_cont_3=rowSums(select(counts, starts_with(\"D1.noTGFb.3\"))),\n",
        "                     D1_tgf_1=rowSums(select(counts, starts_with(\"D1.TGFb.1\"))),\n",
        "                     D1_tgf_2=rowSums(select(counts, starts_with(\"D1.TGFb.2\"))),\n",
        "                     D1_tgf_3=rowSums(select(counts, starts_with(\"D1.TGFb.3\"))),\n",
        "                     D20_cont_1=rowSums(select(counts, starts_with(\"D20.noTGFb.1\"))),\n",
        "                     D20_cont_2=rowSums(select(counts, starts_with(\"D20.noTGFb.2\"))),\n",
        "                     D20_cont_3=rowSums(select(counts, starts_with(\"D20.noTGFb.3\"))),\n",
        "                     D20_tgf_1=rowSums(select(counts, starts_with(\"D20.TGFb.1\"))),\n",
        "                     D20_tgf_2=rowSums(select(counts, starts_with(\"D20.TGFb.2\"))),\n",
        "                     D20_tgf_3=rowSums(select(counts, starts_with(\"D20.TGFb.3\"))))"
      ],
      "metadata": {
        "id": "cYfOx8HvsRsD"
      },
      "execution_count": 6,
      "outputs": []
    },
    {
      "cell_type": "code",
      "source": [
        "%%R\n",
        "\n",
        "str(counts)"
      ],
      "metadata": {
        "colab": {
          "base_uri": "https://localhost:8080/"
        },
        "id": "GhyK4G2pJzpe",
        "outputId": "5d88297b-ca8e-451f-e0fb-b250f3685707"
      },
      "execution_count": null,
      "outputs": [
        {
          "output_type": "stream",
          "name": "stdout",
          "text": [
            "'data.frame':\t25702 obs. of  12 variables:\n",
            " $ D1_cont_1 : num  51 0 0 0 1 0 2 0 0 14 ...\n",
            " $ D1_cont_2 : num  66 0 0 0 2 0 0 0 0 13 ...\n",
            " $ D1_cont_3 : num  42 0 0 0 1 0 0 0 0 14 ...\n",
            " $ D1_tgf_1  : num  29 0 0 0 1 0 0 0 0 11 ...\n",
            " $ D1_tgf_2  : num  52 0 0 0 2 0 0 0 0 19 ...\n",
            " $ D1_tgf_3  : num  37 0 0 0 1 0 0 0 0 11 ...\n",
            " $ D20_cont_1: num  41 0 0 0 1 0 2 0 0 10 ...\n",
            " $ D20_cont_2: num  48 0 0 0 0 0 2 0 0 19 ...\n",
            " $ D20_cont_3: num  67 0 0 0 3 1 0 0 0 18 ...\n",
            " $ D20_tgf_1 : num  82 0 0 0 0 0 1 0 0 16 ...\n",
            " $ D20_tgf_2 : num  35 0 0 0 3 0 0 0 0 9 ...\n",
            " $ D20_tgf_3 : num  39 0 0 0 1 0 0 0 0 2 ...\n"
          ]
        }
      ]
    },
    {
      "cell_type": "markdown",
      "source": [
        "Let's load the table I pre-downloaded from BioMart"
      ],
      "metadata": {
        "id": "YfjwM1enrI2Q"
      }
    },
    {
      "cell_type": "code",
      "source": [
        "%%R\n",
        "biomart <- read.table(\"biomart_hg19_ensembl75.tsv\", sep=\"\\t\", header=TRUE)\n",
        "str(biomart)"
      ],
      "metadata": {
        "colab": {
          "base_uri": "https://localhost:8080/"
        },
        "id": "7o6xw1xTDgVm",
        "outputId": "a3385d7c-7da0-40ac-e941-4b23fec15541"
      },
      "execution_count": 5,
      "outputs": [
        {
          "output_type": "stream",
          "name": "stdout",
          "text": [
            "'data.frame':\t233303 obs. of  7 variables:\n",
            " $ Gene.stable.ID                    : chr  \"ENSG00000261657\" \"ENSG00000261657\" \"ENSG00000261657\" \"ENSG00000261657\" ...\n",
            " $ Gene.stable.ID.version            : chr  \"ENSG00000261657.1\" \"ENSG00000261657.1\" \"ENSG00000261657.1\" \"ENSG00000261657.1\" ...\n",
            " $ Transcript.stable.ID              : chr  \"ENST00000566782\" \"ENST00000562780\" \"ENST00000569579\" \"ENST00000568242\" ...\n",
            " $ Transcript.stable.ID.version      : chr  \"ENST00000566782.1\" \"ENST00000562780.1\" \"ENST00000569579.1\" \"ENST00000568242.1\" ...\n",
            " $ NCBI.gene..formerly.Entrezgene..ID: int  115286 115286 115286 115286 115286 NA NA NA NA 100873766 ...\n",
            " $ Gene.name                         : chr  \"SLC25A26\" \"SLC25A26\" \"SLC25A26\" \"SLC25A26\" ...\n",
            " $ Gene.type                         : chr  \"protein_coding\" \"protein_coding\" \"protein_coding\" \"protein_coding\" ...\n"
          ]
        }
      ]
    },
    {
      "cell_type": "code",
      "source": [
        "%%R\n",
        "protein_coding <- biomart$Gene.type[match(rownames(counts), biomart$NCBI.gene..formerly.Entrezgene..ID)] == \"protein_coding\"\n",
        "protein_coding[is.na(protein_coding)] <- FALSE\n",
        "counts <- counts[protein_coding,]\n",
        "ensembl <- biomart$Gene.stable.ID[match(rownames(counts), biomart$NCBI.gene..formerly.Entrezgene..ID)]\n",
        "symbol <- biomart$Gene.name[match(rownames(counts), biomart$NCBI.gene..formerly.Entrezgene..ID)]\n",
        "str(counts)"
      ],
      "metadata": {
        "colab": {
          "base_uri": "https://localhost:8080/"
        },
        "id": "gqLxY0JfADmC",
        "outputId": "975671e6-5a8e-4c48-893f-efa55da8d5b8"
      },
      "execution_count": 7,
      "outputs": [
        {
          "output_type": "stream",
          "name": "stdout",
          "text": [
            "'data.frame':\t19016 obs. of  12 variables:\n",
            " $ D1_cont_1 : num  0 0 0 3 1394 ...\n",
            " $ D1_cont_2 : num  0 0 0 27 1522 ...\n",
            " $ D1_cont_3 : num  0 0 0 4 1281 ...\n",
            " $ D1_tgf_1  : num  0 0 0 14 954 109 23 9 11 131 ...\n",
            " $ D1_tgf_2  : num  0 0 0 26 1861 ...\n",
            " $ D1_tgf_3  : num  0 0 0 11 920 92 25 4 11 133 ...\n",
            " $ D20_cont_1: num  0 0 0 15 680 113 26 4 20 230 ...\n",
            " $ D20_cont_2: num  0 0 0 32 865 169 26 6 27 329 ...\n",
            " $ D20_cont_3: num  0 0 0 14 999 182 40 11 25 384 ...\n",
            " $ D20_tgf_1 : num  0 0 0 40 1187 ...\n",
            " $ D20_tgf_2 : num  0 0 0 22 681 103 30 4 5 202 ...\n",
            " $ D20_tgf_3 : num  0 0 0 11 700 133 35 3 6 174 ...\n"
          ]
        }
      ]
    },
    {
      "cell_type": "code",
      "source": [
        "%%R\n",
        "\n",
        "str(ensembl)"
      ],
      "metadata": {
        "colab": {
          "base_uri": "https://localhost:8080/"
        },
        "id": "9fUf_B3SzTU_",
        "outputId": "a7f29b6b-3607-4686-ecde-9e97ee625adc"
      },
      "execution_count": 10,
      "outputs": [
        {
          "output_type": "stream",
          "name": "stdout",
          "text": [
            " chr [1:19016] \"ENSG00000186092\" \"ENSG00000235249\" \"ENSG00000235249\" ...\n"
          ]
        }
      ]
    },
    {
      "cell_type": "markdown",
      "source": [
        "Let's use principal component analysis to visualize overall differences between our samples"
      ],
      "metadata": {
        "id": "LxDQzxv0rV1R"
      }
    },
    {
      "cell_type": "code",
      "source": [
        "%%R\n",
        "# scale the data\n",
        "counts_scaled <- t(scale(counts))\n",
        "\n",
        "# run PCA\n",
        "pca_result <- prcomp(counts_scaled, center = TRUE, scale. = TRUE)\n",
        "variance_explained <- pca_result$sdev^2 / sum(pca_result$sdev^2) * 100\n",
        "\n",
        "# extract first two PCs\n",
        "scores_df <- data.frame(PC1 = pca_result$x[,1], PC2 = pca_result$x[,2])\n",
        "scores_df$Sample = row.names(scores_df)\n",
        "groups <- str_remove(scores_df$Sample, \"_[0-9]+$\")\n",
        "scores_df$group = groups\n",
        "\n",
        "# plot first two PCs\n",
        "ggplot(scores_df, aes(x = PC1, y = PC2, label = Sample, color = group)) +\n",
        "  geom_point(size=2) +\n",
        "  geom_text_repel(size=5,\n",
        "                  box.padding = 0.5,\n",
        "                  point.padding = 0.5,\n",
        "                  max.overlaps = Inf)+\n",
        "  theme_minimal()+\n",
        "  theme(legend.position = \"none\")+\n",
        "  labs(x=paste(\"PC1 (\", sprintf(\"%.1f\", variance_explained[1]), \"%)\", sep=\"\"),,\n",
        "       y=paste(\"PC2 (\", sprintf(\"%.1f\", variance_explained[2]), \"%)\", sep=\"\"),)"
      ],
      "metadata": {
        "colab": {
          "base_uri": "https://localhost:8080/",
          "height": 497
        },
        "id": "b_YItCFVu8_j",
        "outputId": "d5192f37-9103-4b4e-d004-f1435f66cbc4"
      },
      "execution_count": null,
      "outputs": [
        {
          "output_type": "display_data",
          "data": {
            "image/png": "[encoded data removed]"
          },
          "metadata": {}
        }
      ]
    },
    {
      "cell_type": "markdown",
      "source": [
        "Loading our counts into edgeR and adding information about the groups"
      ],
      "metadata": {
        "id": "uQ-xf1F9rjMm"
      }
    },
    {
      "cell_type": "code",
      "source": [
        "%%R\n",
        "y <- DGEList(counts=counts, group=groups)\n",
        "design <- model.matrix(~0+groups)\n",
        "colnames(design) <- str_remove(colnames(design), \"groups\")\n",
        "design"
      ],
      "metadata": {
        "colab": {
          "base_uri": "https://localhost:8080/"
        },
        "id": "FbuT70lU3lZJ",
        "outputId": "979896c8-8936-49d6-d9b6-f05ff7c5495e"
      },
      "execution_count": null,
      "outputs": [
        {
          "output_type": "stream",
          "name": "stdout",
          "text": [
            "   D1_cont D1_tgf D20_cont D20_tgf\n",
            "1        1      0        0       0\n",
            "2        1      0        0       0\n",
            "3        1      0        0       0\n",
            "4        0      1        0       0\n",
            "5        0      1        0       0\n",
            "6        0      1        0       0\n",
            "7        0      0        1       0\n",
            "8        0      0        1       0\n",
            "9        0      0        1       0\n",
            "10       0      0        0       1\n",
            "11       0      0        0       1\n",
            "12       0      0        0       1\n",
            "attr(,\"assign\")\n",
            "[1] 1 1 1 1\n",
            "attr(,\"contrasts\")\n",
            "attr(,\"contrasts\")$groups\n",
            "[1] \"contr.treatment\"\n",
            "\n"
          ]
        }
      ]
    },
    {
      "cell_type": "markdown",
      "source": [
        "Filtering low-expressed genes"
      ],
      "metadata": {
        "id": "EZDCflQKrqHx"
      }
    },
    {
      "cell_type": "code",
      "source": [
        "%%R\n",
        "keep <- filterByExpr(y, design=design, min.count=10, min.total.count=100, min.prop=0.25)\n",
        "y <- y[keep, , keep.lib.sizes=FALSE]\n",
        "y$genes <- data.frame(Ensembl=ensembl, Symbol=symbol)\n",
        "str(y)"
      ],
      "metadata": {
        "colab": {
          "base_uri": "https://localhost:8080/"
        },
        "id": "3SpXBXoSAolN",
        "outputId": "7615c9a1-76b0-453d-c5cf-dbae591f37f7"
      },
      "execution_count": null,
      "outputs": [
        {
          "output_type": "stream",
          "name": "stdout",
          "text": [
            "Formal class 'DGEList' [package \"edgeR\"] with 1 slot\n",
            "  ..@ .Data:List of 3\n",
            "  .. ..$ : num [1:12354, 1:12] 3 1394 164 27 12 ...\n",
            "  .. .. ..- attr(*, \"dimnames\")=List of 2\n",
            "  .. .. .. ..$ : chr [1:12354] \"148398\" \"26155\" \"339451\" \"84069\" ...\n",
            "  .. .. .. ..$ : chr [1:12] \"D1_cont_1\" \"D1_cont_2\" \"D1_cont_3\" \"D1_tgf_1\" ...\n",
            "  .. ..$ :'data.frame':\t12 obs. of  3 variables:\n",
            "  .. .. ..$ group       : Factor w/ 4 levels \"D1_cont\",\"D1_tgf\",..: 1 1 1 2 2 2 3 3 3 4 ...\n",
            "  .. .. ..$ lib.size    : num [1:12] 11351867 14429978 11359967 8538244 17891947 ...\n",
            "  .. .. ..$ norm.factors: num [1:12] 1 1 1 1 1 1 1 1 1 1 ...\n",
            "  .. ..$ :'data.frame':\t19016 obs. of  2 variables:\n",
            "  .. .. ..$ Ensembl: chr [1:19016] \"ENSG00000186092\" \"ENSG00000235249\" \"ENSG00000235249\" \"ENSG00000187634\" ...\n",
            "  .. .. ..$ Symbol : chr [1:19016] \"OR4F5\" \"OR4F29\" \"OR4F29\" \"SAMD11\" ...\n",
            "  ..$ names: chr [1:3] \"counts\" \"samples\" \"genes\"\n"
          ]
        }
      ]
    },
    {
      "cell_type": "markdown",
      "source": [
        "Compute effective library sizes (see lecture)"
      ],
      "metadata": {
        "id": "aB8ZooJIrsDy"
      }
    },
    {
      "cell_type": "code",
      "source": [
        "%%R\n",
        "y <- calcNormFactors(y) # called normLibSizes in newer versions\n",
        "str(y)"
      ],
      "metadata": {
        "colab": {
          "base_uri": "https://localhost:8080/"
        },
        "id": "MPdib9DlB5kh",
        "outputId": "5155e1db-c01e-4080-cc00-03303d4eb546"
      },
      "execution_count": null,
      "outputs": [
        {
          "output_type": "stream",
          "name": "stdout",
          "text": [
            "Formal class 'DGEList' [package \"edgeR\"] with 1 slot\n",
            "  ..@ .Data:List of 3\n",
            "  .. ..$ : num [1:12354, 1:12] 3 1394 164 27 12 ...\n",
            "  .. .. ..- attr(*, \"dimnames\")=List of 2\n",
            "  .. .. .. ..$ : chr [1:12354] \"148398\" \"26155\" \"339451\" \"84069\" ...\n",
            "  .. .. .. ..$ : chr [1:12] \"D1_cont_1\" \"D1_cont_2\" \"D1_cont_3\" \"D1_tgf_1\" ...\n",
            "  .. ..$ :'data.frame':\t12 obs. of  3 variables:\n",
            "  .. .. ..$ group       : Factor w/ 4 levels \"D1_cont\",\"D1_tgf\",..: 1 1 1 2 2 2 3 3 3 4 ...\n",
            "  .. .. ..$ lib.size    : num [1:12] 11351867 14429978 11359967 8538244 17891947 ...\n",
            "  .. .. ..$ norm.factors: num [1:12] 1.013 1.029 1.015 0.973 0.965 ...\n",
            "  .. ..$ :'data.frame':\t19016 obs. of  2 variables:\n",
            "  .. .. ..$ Ensembl: chr [1:19016] \"ENSG00000186092\" \"ENSG00000235249\" \"ENSG00000235249\" \"ENSG00000187634\" ...\n",
            "  .. .. ..$ Symbol : chr [1:19016] \"OR4F5\" \"OR4F29\" \"OR4F29\" \"SAMD11\" ...\n",
            "  ..$ names: chr [1:3] \"counts\" \"samples\" \"genes\"\n"
          ]
        }
      ]
    },
    {
      "cell_type": "markdown",
      "source": [
        "Compared to what we discussed in the lecture, the variance of the counts in edgeR has a slightly more complicated form. It contains both the common dispersion component for all of the genes $\\phi$, and the gene-wise dispersion component $\\sigma_g$:\n",
        "\n",
        "$Var(y_{ig}) = σ^2_g(\\mu_{ig} + \\phi \\mu^2_{ig}),$ $i$ - sample, $g$ - gene.\n",
        "\n",
        "First, the common dispersion $\\phi$ is evaluated. Then, the trend for the gene-wise dispersions is computed as discussed in the lecture. Finally, the gene-wise dispersions are estimated and squeezed towards that trend."
      ],
      "metadata": {
        "id": "tIT8RX4cGea1"
      }
    },
    {
      "cell_type": "code",
      "source": [
        "%%R\n",
        "y <- estimateDisp(y, design)\n",
        "# this is equivalent to:\n",
        "# y <- estimateGLMCommonDisp(y, design)\n",
        "# y <- estimateGLMTrendedDisp(y, desig\n",
        "# y <- estimateGLMTagwiseDisp(y, design)"
      ],
      "metadata": {
        "id": "AO7Eef-yDeeL"
      },
      "execution_count": null,
      "outputs": []
    },
    {
      "cell_type": "markdown",
      "source": [
        "Now let's tell edgeR, which groups we want to compare"
      ],
      "metadata": {
        "id": "zGDlsVvdPMoV"
      }
    },
    {
      "cell_type": "code",
      "source": [
        "%%R\n",
        "fit <- glmQLFit(y, design)\n",
        "contrasts <- makeContrasts(\n",
        "  cont_20vs1 = D20_cont - D1_cont,\n",
        "  tgf_20vs1 = D20_tgf - D1_tgf,\n",
        "  d1_tgf = D1_tgf - D1_cont,\n",
        "  d20_tgf = D20_tgf - D20_cont,\n",
        "  levels=design)"
      ],
      "metadata": {
        "id": "NFKt9CbX2ojF"
      },
      "execution_count": null,
      "outputs": []
    },
    {
      "cell_type": "code",
      "source": [
        "%%R\n",
        "contrasts"
      ],
      "metadata": {
        "colab": {
          "base_uri": "https://localhost:8080/"
        },
        "id": "ApxkzDnK3AP6",
        "outputId": "f218a7fa-b9bf-4178-8999-a5d86e24a83e"
      },
      "execution_count": null,
      "outputs": [
        {
          "output_type": "stream",
          "name": "stdout",
          "text": [
            "          Contrasts\n",
            "Levels     cont_20vs1 tgf_20vs1 d1_tgf d20_tgf\n",
            "  D1_cont          -1         0     -1       0\n",
            "  D1_tgf            0        -1      1       0\n",
            "  D20_cont          1         0      0      -1\n",
            "  D20_tgf           0         1      0       1\n"
          ]
        }
      ]
    },
    {
      "cell_type": "markdown",
      "source": [
        "For example, the contrast `cont_20vs1` signifies a statistical test for the null hypothesis that `D20_cont - D1_cont = 0`."
      ],
      "metadata": {
        "id": "f_gLuwy5TSnR"
      }
    },
    {
      "cell_type": "code",
      "source": [
        "%%R\n",
        "qlf_cont_20vs1 <- glmQLFTest(fit, contrast=contrasts[,\"cont_20vs1\"])\n",
        "qlf_tgf_20vs1 <- glmQLFTest(fit, contrast=contrasts[,\"tgf_20vs1\"])\n",
        "qlf_d1_tgf <- glmQLFTest(fit, contrast=contrasts[,\"d1_tgf\"])\n",
        "qlf_d20_tgf <- glmQLFTest(fit, contrast=contrasts[,\"d20_tgf\"])"
      ],
      "metadata": {
        "id": "L2IekEPo3Sbe"
      },
      "execution_count": null,
      "outputs": []
    },
    {
      "cell_type": "code",
      "source": [
        "%%R\n",
        "print(summary(decideTests(qlf_cont_20vs1)))\n",
        "print(summary(decideTests(qlf_tgf_20vs1)))\n",
        "print(summary(decideTests(qlf_d1_tgf)))\n",
        "print(summary(decideTests(qlf_d20_tgf)))"
      ],
      "metadata": {
        "colab": {
          "base_uri": "https://localhost:8080/"
        },
        "id": "mAkXiXtUlp3n",
        "outputId": "166b307f-538c-48ee-b1b3-d3147f450cf3"
      },
      "execution_count": null,
      "outputs": [
        {
          "output_type": "stream",
          "name": "stdout",
          "text": [
            "       -1*D1_cont 1*D20_cont\n",
            "Down                    2884\n",
            "NotSig                  6468\n",
            "Up                      3002\n",
            "       -1*D1_tgf 1*D20_tgf\n",
            "Down                  2928\n",
            "NotSig                6524\n",
            "Up                    2902\n",
            "       -1*D1_cont 1*D1_tgf\n",
            "Down                  1364\n",
            "NotSig                9665\n",
            "Up                    1325\n",
            "       -1*D20_cont 1*D20_tgf\n",
            "Down                    2469\n",
            "NotSig                  7539\n",
            "Up                      2346\n"
          ]
        }
      ]
    },
    {
      "cell_type": "markdown",
      "source": [
        "The smallest number of DE genes is found between the TGF-β-treated and untreated cells on day 1, which is expected."
      ],
      "metadata": {
        "id": "6YRlqNxzmL1V"
      }
    },
    {
      "cell_type": "code",
      "source": [
        "%%R\n",
        "qlftab_cont_20vs1 <- topTags(qlf_cont_20vs1, n=nrow(y))$table\n",
        "qlftab_tgf_20vs1 <- topTags(qlf_tgf_20vs1, n=nrow(y))$table\n",
        "qlftab_d1_tgf <- topTags(qlf_d1_tgf, n=nrow(y))$table\n",
        "qlftab_d20_tgf <- topTags(qlf_d20_tgf, n=nrow(y))$table"
      ],
      "metadata": {
        "id": "JObvFYKrmnTJ"
      },
      "execution_count": null,
      "outputs": []
    },
    {
      "cell_type": "code",
      "source": [
        "%%R\n",
        "head(qlftab_cont_20vs1)"
      ],
      "metadata": {
        "colab": {
          "base_uri": "https://localhost:8080/"
        },
        "id": "BGYQMqaZm-4x",
        "outputId": "bb0e7d5d-833b-4d57-9f6e-742b46e7b5c7"
      },
      "execution_count": null,
      "outputs": [
        {
          "output_type": "stream",
          "name": "stdout",
          "text": [
            "              Ensembl   Symbol     logFC   logCPM        F       PValue\n",
            "6328  ENSG00000103018    CYB5B  5.912420 2.421628 596.3106 6.715974e-13\n",
            "6574  ENSG00000159625  CCDC135 -1.631513 8.349429 578.4268 8.277230e-13\n",
            "25907 ENSG00000141524     TMC6 -1.623484 8.716842 466.0209 3.632401e-12\n",
            "9700  ENSG00000023191     RNH1 -2.758252 3.685243 451.7046 4.494145e-12\n",
            "10212 ENSG00000186073 C15orf41 -1.630497 5.433907 408.9434 8.846526e-12\n",
            "991   ENSG00000142733   MAP3K6 -3.224106 5.439792 404.8024 9.480323e-12\n",
            "               FDR\n",
            "6328  5.112845e-09\n",
            "6574  5.112845e-09\n",
            "25907 1.388017e-08\n",
            "9700  1.388017e-08\n",
            "10212 1.707764e-08\n",
            "991   1.707764e-08\n"
          ]
        }
      ]
    },
    {
      "cell_type": "markdown",
      "source": [
        "Let's visualize, which DE genes are common between different comparisons"
      ],
      "metadata": {
        "id": "4fG63c6NPVYr"
      }
    },
    {
      "cell_type": "code",
      "source": [
        "%%R\n",
        "# Filter DE Genes based on FDR < 0.05 and logFC > 2\n",
        "de_genes_cont_20vs1 <- subset(qlftab_cont_20vs1, FDR < 0.05 & logFC > 1)$Symbol\n",
        "de_genes_tgf_20vs1 <- subset(qlftab_tgf_20vs1, FDR < 0.05 & logFC > 1)$Symbol\n",
        "de_genes_d1_tgf <- subset(qlftab_d1_tgf, FDR < 0.05 & logFC > 1)$Symbol\n",
        "de_genes_d20_tgf <- subset(qlftab_d20_tgf, FDR < 0.05 & logFC > 1)$Symbol\n",
        "\n",
        "# Use VennDiagram package to plot the Venn diagram\n",
        "library(VennDiagram)\n",
        "venn.plot <- venn.diagram(\n",
        "  x = list(\n",
        "    Cont_20vs1 = de_genes_cont_20vs1,\n",
        "    TGF_20vs1 = de_genes_tgf_20vs1,\n",
        "    D1_TGF = de_genes_d1_tgf,\n",
        "    D20_TGF = de_genes_d20_tgf\n",
        "  ),\n",
        "  category.names = c(\"Cont, d20 vs d1\", \"TGF, d20 vs d1\", \"D1, TGF vs Cont\", \"D20, TGF vs Cont\"),\n",
        "  filename = NULL\n",
        ")\n",
        "grid.draw(venn.plot)"
      ],
      "metadata": {
        "colab": {
          "base_uri": "https://localhost:8080/",
          "height": 566
        },
        "id": "yHmdXSvSoIIc",
        "outputId": "b1516d03-f83d-4ddd-a43b-8d09d9757f04"
      },
      "execution_count": null,
      "outputs": [
        {
          "output_type": "stream",
          "name": "stderr",
          "text": [
            "WARNING:rpy2.rinterface_lib.callbacks:R[write to console]: Loading required package: grid\n",
            "\n",
            "WARNING:rpy2.rinterface_lib.callbacks:R[write to console]: Loading required package: futile.logger\n",
            "\n"
          ]
        },
        {
          "output_type": "display_data",
          "data": {
            "image/png": "[encoded data removed]"
          },
          "metadata": {}
        }
      ]
    },
    {
      "cell_type": "markdown",
      "source": [
        "And now we plot a **volcano plot** for one of the comparisons! This is useful to identify genes which have both large changes in expression (large logFC) and these changes are significant (large -log10(P-value))."
      ],
      "metadata": {
        "id": "GZSHfVslPag4"
      }
    },
    {
      "cell_type": "code",
      "source": [
        "%%R\n",
        "# ad\n",
        "qlftab_tgf_20vs1$p_log10 <- -log10(qlftab_tgf_20vs1$PValue)\n",
        "\n",
        "# Identify the most DE genes: (abs(logFC)>2 and -log10P>9) or (abs(logFC)>7)\n",
        "top_genes <- qlftab_tgf_20vs1[((abs(qlftab_tgf_20vs1$logFC)>2)&(qlftab_tgf_20vs1$p_log10>9))|(abs(qlftab_tgf_20vs1$logFC)>7), ]\n",
        "\n",
        "# Plot the volcano plot\n",
        "ggplot(qlftab_tgf_20vs1, aes(x=logFC, y=p_log10)) +\n",
        "  geom_point(aes(color = (FDR < 0.05 & abs(logFC) > 2)), alpha=0.5) +\n",
        "  scale_color_manual(values = c(\"FALSE\" = \"grey\", \"TRUE\" = \"red\")) +\n",
        "  labs(x = \"Log2 Fold Change\",\n",
        "       y = \"-log10 P-value\") +\n",
        "  theme_minimal() +\n",
        "  theme(legend.title = element_blank(), legend.position = \"none\") +\n",
        "  geom_vline(xintercept = c(-2, 2), linetype = \"dashed\", color = \"blue\") +\n",
        "  geom_hline(yintercept = -log10(0.05), linetype = \"dashed\", color = \"blue\") +\n",
        "  geom_label_repel(data = top_genes,\n",
        "                  aes(label = Symbol),\n",
        "                  size = 3,\n",
        "                  box.padding = unit(0.35, \"lines\"),\n",
        "                  point.padding = unit(0.5, \"lines\"))"
      ],
      "metadata": {
        "colab": {
          "base_uri": "https://localhost:8080/",
          "height": 497
        },
        "id": "wxFZ6S6fqxal",
        "outputId": "1b92fcd7-7069-4347-d383-206acc3f6a55"
      },
      "execution_count": null,
      "outputs": [
        {
          "output_type": "display_data",
          "data": {
            "image/png": "[encoded data removed]"
          },
          "metadata": {}
        }
      ]
    },
    {
      "cell_type": "markdown",
      "source": [
        "Finally, we can perform gene set enrichment analysis for this comparison using clusterProfiler package"
      ],
      "metadata": {
        "id": "I4HgKradPoZy"
      }
    },
    {
      "cell_type": "code",
      "source": [
        "%%R\n",
        "suppressPackageStartupMessages({\n",
        "  library(clusterProfiler)\n",
        "  library(org.Hs.eg.db)\n",
        "})"
      ],
      "metadata": {
        "id": "eGIvd21Py8j8"
      },
      "execution_count": null,
      "outputs": []
    },
    {
      "cell_type": "code",
      "source": [
        "%%R\n",
        "geneList <- qlftab_tgf_20vs1$p_log10*sign(qlftab_tgf_20vs1$logFC)\n",
        "names(geneList) <- rownames(qlftab_tgf_20vs1)\n",
        "geneList <- sort(geneList, decreasing = TRUE)\n",
        "\n",
        "gsea_bp <- gseGO(geneList=geneList, ont=\"BP\", OrgDb=org.Hs.eg.db)"
      ],
      "metadata": {
        "colab": {
          "base_uri": "https://localhost:8080/"
        },
        "id": "00TVPWzRwi5H",
        "outputId": "a5df35b6-dc2c-461c-c28f-88d8b22c69b2"
      },
      "execution_count": null,
      "outputs": [
        {
          "output_type": "stream",
          "name": "stderr",
          "text": [
            "WARNING:rpy2.rinterface_lib.callbacks:R[write to console]: preparing geneSet collections...\n",
            "\n",
            "WARNING:rpy2.rinterface_lib.callbacks:R[write to console]: GSEA analysis...\n",
            "\n",
            "WARNING:rpy2.rinterface_lib.callbacks:R[write to console]: leading edge analysis...\n",
            "\n",
            "WARNING:rpy2.rinterface_lib.callbacks:R[write to console]: done...\n",
            "\n"
          ]
        }
      ]
    },
    {
      "cell_type": "code",
      "source": [
        "%%R\n",
        "\n",
        "head(gsea_bp@result[, c(\"Description\", \"setSize\", \"NES\", \"p.adjust\")])"
      ],
      "metadata": {
        "colab": {
          "base_uri": "https://localhost:8080/"
        },
        "id": "IXwwNSb_0QvZ",
        "outputId": "7c756125-133d-4bb9-ee2c-37c67f857b27"
      },
      "execution_count": null,
      "outputs": [
        {
          "output_type": "stream",
          "name": "stdout",
          "text": [
            "                                                     Description setSize\n",
            "GO:0006261                         DNA-templated DNA replication     159\n",
            "GO:0006260                                       DNA replication     270\n",
            "GO:0090329           regulation of DNA-templated DNA replication      54\n",
            "GO:0098813                        nuclear chromosome segregation     267\n",
            "GO:0045005 DNA-templated DNA replication maintenance of fidelity      54\n",
            "GO:0007059                                chromosome segregation     325\n",
            "                 NES     p.adjust\n",
            "GO:0006261 -2.877053 7.671831e-09\n",
            "GO:0006260 -2.656880 7.671831e-09\n",
            "GO:0090329 -2.630386 7.671831e-09\n",
            "GO:0098813 -2.618211 7.671831e-09\n",
            "GO:0045005 -2.607404 7.671831e-09\n",
            "GO:0007059 -2.605617 7.671831e-09\n"
          ]
        }
      ]
    },
    {
      "cell_type": "code",
      "source": [
        "%%R\n",
        "dotplot(gsea_bp, showCategory=10)"
      ],
      "metadata": {
        "colab": {
          "base_uri": "https://localhost:8080/",
          "height": 497
        },
        "id": "adGqHJZ_wvhR",
        "outputId": "bbc769db-edc5-4bc7-de37-ac24677cb565"
      },
      "execution_count": null,
      "outputs": [
        {
          "output_type": "display_data",
          "data": {
            "image/png": "[encoded data removed]"
          },
          "metadata": {}
        }
      ]
    },
    {
      "cell_type": "markdown",
      "source": [
        "## Exercise"
      ],
      "metadata": {
        "id": "UDjl5E6VtMOB"
      }
    },
    {
      "cell_type": "markdown",
      "source": [
        "At home, perform the same analysis with the standard DESeq2 pipeline. DESeq2 documentation is very detailed: https://www.bioconductor.org/packages/release/bioc/vignettes/DESeq2/inst/doc/DESeq2.html. For each step, comment, how it relates to what we did in edgeR.\n",
        "\n",
        "You can then compare lists of differentially expressed genes between edgeR and DESeq2 using Venn diagrams or plot the p-values of different genes in edgeR and DESeq2 against each other.\n",
        "\n",
        "And feel free to ask questions! @daniilbobrovskiy"
      ],
      "metadata": {
        "id": "oUvH2AalPuvh"
      }
    },
    {
      "cell_type": "code",
      "source": [
        "%%R\n",
        "suppressPackageStartupMessages(library(DESeq2))"
      ],
      "metadata": {
        "id": "6anqB7L_q3Bd"
      },
      "execution_count": 6,
      "outputs": []
    },
    {
      "cell_type": "markdown",
      "source": [
        "Примерный план:\n",
        "\n",
        "1. Составляем матрицу каунтов для начала и причесываем датасет точно так же как для edgeR.\n",
        "\n",
        "2. PCA разложение как для edgeR.\n",
        "\n",
        "3. Составим табличку meta_data с указанием, к какой группе относится столбец наблюдений.\n",
        "\n",
        "4. Создадим датасет DESeq на основе матрицы каунтов и метаинформации.\n",
        "\n",
        "5. Запускаем анализ. Судя по туториалу DESeq2, подбор размера библиотеки и оценка дисперсии происходит внутри без необходимости отдельного запуска. Чтобы указать, какие группы нас интересуют, указываем группы в значениях result.\n",
        "\n",
        "6. Рисуем диаграмму Эйлера-Венна!"
      ],
      "metadata": {
        "id": "IEggR38o1JEi"
      }
    },
    {
      "cell_type": "code",
      "source": [
        "%%R\n",
        "\n",
        "#матрица каунтов\n",
        "\n",
        "count_matrix <- read.table(\"GSE110021_counts.Aug2015.txt\")\n",
        "count_matrix <- data.frame(D1_cont_1=rowSums(select(count_matrix, starts_with(\"D1.noTGFb.1\"))),\n",
        "                            D1_cont_2=rowSums(select(count_matrix, starts_with(\"D1.noTGFb.2\"))),\n",
        "                            D1_cont_3=rowSums(select(count_matrix, starts_with(\"D1.noTGFb.3\"))),\n",
        "                            D1_tgf_1=rowSums(select(count_matrix, starts_with(\"D1.TGFb.1\"))),\n",
        "                            D1_tgf_2=rowSums(select(count_matrix, starts_with(\"D1.TGFb.2\"))),\n",
        "                            D1_tgf_3=rowSums(select(count_matrix, starts_with(\"D1.TGFb.3\"))),\n",
        "                            D20_cont_1=rowSums(select(count_matrix, starts_with(\"D20.noTGFb.1\"))),\n",
        "                            D20_cont_2=rowSums(select(count_matrix, starts_with(\"D20.noTGFb.2\"))),\n",
        "                            D20_cont_3=rowSums(select(count_matrix, starts_with(\"D20.noTGFb.3\"))),\n",
        "                            D20_tgf_1=rowSums(select(count_matrix, starts_with(\"D20.TGFb.1\"))),\n",
        "                            D20_tgf_2=rowSums(select(count_matrix, starts_with(\"D20.TGFb.2\"))),\n",
        "                            D20_tgf_3=rowSums(select(count_matrix, starts_with(\"D20.TGFb.3\"))))"
      ],
      "metadata": {
        "id": "6eXAcUtN04F7"
      },
      "execution_count": 7,
      "outputs": []
    },
    {
      "cell_type": "code",
      "source": [
        "%%R\n",
        "\n",
        "#скачиваем информацию о белках\n",
        "\n",
        "gene_anno <- read.table(\"biomart_hg19_ensembl75.tsv\", sep = '\\t', header = TRUE)"
      ],
      "metadata": {
        "id": "Xoh52J55n9yO"
      },
      "execution_count": 8,
      "outputs": []
    },
    {
      "cell_type": "code",
      "source": [
        "#причесываем\n",
        "%%R\n",
        "\n",
        "protein_coding <- gene_anno$Gene.type[match(rownames(count_matrix), gene_anno$NCBI.gene..formerly.Entrezgene..ID)] == \"protein_coding\"\n",
        "protein_coding[is.na(protein_coding)] <- FALSE\n",
        "count_matrix <- count_matrix[protein_coding,]\n",
        "ensembl <- gene_anno$Gene.stable.ID[match(rownames(count_matrix), gene_anno$NCBI.gene..formerly.Entrezgene..ID)]\n",
        "symbol <- gene_anno$Gene.name[match(rownames(count_matrix), gene_anno$NCBI.gene..formerly.Entrezgene..ID)]"
      ],
      "metadata": {
        "id": "V0MsO28IJpo6"
      },
      "execution_count": 9,
      "outputs": []
    },
    {
      "cell_type": "code",
      "source": [
        "%%R\n",
        "\n",
        "#разложение PCA\n",
        "# scale the data\n",
        "counts_scaled <- t(scale(count_matrix))\n",
        "\n",
        "# run PCA\n",
        "pca_result <- prcomp(counts_scaled, center = TRUE, scale. = TRUE)\n",
        "variance_explained <- pca_result$sdev^2 / sum(pca_result$sdev^2) * 100\n",
        "\n",
        "# extract first two PCs\n",
        "scores_df <- data.frame(PC1 = pca_result$x[,1], PC2 = pca_result$x[,2])\n",
        "scores_df$Sample = row.names(scores_df)\n",
        "groups <- str_remove(scores_df$Sample, \"_[0-9]+$\")\n",
        "scores_df$group = groups\n",
        "\n",
        "# plot first two PCs\n",
        "ggplot(scores_df, aes(x = PC1, y = PC2, label = Sample, color = group)) +\n",
        "  geom_point(size=2) +\n",
        "  geom_text_repel(size=5,\n",
        "                  box.padding = 0.5,\n",
        "                  point.padding = 0.5,\n",
        "                  max.overlaps = Inf)+\n",
        "  theme_minimal()+\n",
        "  theme(legend.position = \"none\")+\n",
        "  labs(x=paste(\"PC1 (\", sprintf(\"%.1f\", variance_explained[1]), \"%)\", sep=\"\"),,\n",
        "       y=paste(\"PC2 (\", sprintf(\"%.1f\", variance_explained[2]), \"%)\", sep=\"\"),)"
      ],
      "metadata": {
        "colab": {
          "base_uri": "https://localhost:8080/",
          "height": 497
        },
        "id": "V2ZJiBx8Jfut",
        "outputId": "dab014d1-f040-4fd4-be9b-4c18924e99fb"
      },
      "execution_count": 10,
      "outputs": [
        {
          "output_type": "display_data",
          "data": {
            "image/png": "[encoded data removed]"
          },
          "metadata": {}
        }
      ]
    },
    {
      "cell_type": "code",
      "source": [
        "%%R\n",
        "\n",
        "#строим таблицу meta data\n",
        "\n",
        "meta_data <- data.frame(colnames(count_matrix), groups)"
      ],
      "metadata": {
        "id": "pnv0pSRDTmo9"
      },
      "execution_count": 11,
      "outputs": []
    },
    {
      "cell_type": "code",
      "source": [
        "#создадим датасет DEseq2 на основе матрицы каунтов и метаинформации\n",
        "%%R\n",
        "\n",
        "dataset <- DESeqDataSetFromMatrix(countData = count_matrix,           #тут данные\n",
        "                                  colData = meta_data,                #здесь информация, какими свойствами описываются колонки\n",
        "                                  design= ~ groups                    #здесь столбец из meta_data, по которому будем группировать при анализе\n",
        "                                  )"
      ],
      "metadata": {
        "colab": {
          "base_uri": "https://localhost:8080/"
        },
        "id": "VZgpmmFw--kk",
        "outputId": "e0f17ce7-9f48-404c-9f27-bbf10482d0a0"
      },
      "execution_count": 12,
      "outputs": [
        {
          "output_type": "stream",
          "name": "stderr",
          "text": [
            "WARNING:rpy2.rinterface_lib.callbacks:R[write to console]: converting counts to integer mode\n",
            "\n"
          ]
        }
      ]
    },
    {
      "cell_type": "code",
      "source": [
        "%%R\n",
        "\n",
        "dataset"
      ],
      "metadata": {
        "colab": {
          "base_uri": "https://localhost:8080/"
        },
        "id": "AOTZ4F-YYHzz",
        "outputId": "0394eaa7-dfb4-4c5f-d443-8957e79d3f92"
      },
      "execution_count": 13,
      "outputs": [
        {
          "output_type": "stream",
          "name": "stdout",
          "text": [
            "class: DESeqDataSet \n",
            "dim: 19016 12 \n",
            "metadata(1): version\n",
            "assays(1): counts\n",
            "rownames(19016): 79501 729759 ... 442868 9085\n",
            "rowData names(0):\n",
            "colnames(12): D1_cont_1 D1_cont_2 ... D20_tgf_2 D20_tgf_3\n",
            "colData names(2): colnames.count_matrix. groups\n"
          ]
        }
      ]
    },
    {
      "cell_type": "code",
      "source": [
        "%%R\n",
        "#фильтрация редких белков, может, тут ее и не нужно делать\n",
        "smallestGroupSize <- 3\n",
        "keep <- rowSums(counts(dataset) >= 10) >= smallestGroupSize\n",
        "dataset <- dataset[keep,]"
      ],
      "metadata": {
        "id": "gIFI7sB7Vvju"
      },
      "execution_count": 14,
      "outputs": []
    },
    {
      "cell_type": "code",
      "source": [
        "%%R\n",
        "#запускаем DESeq2 анализ!\n",
        "dataset2 <- DESeq(dataset)"
      ],
      "metadata": {
        "colab": {
          "base_uri": "https://localhost:8080/"
        },
        "id": "WaQbavh5V70w",
        "outputId": "134c5e32-2e79-484f-a50f-8f473196ab7b"
      },
      "execution_count": 15,
      "outputs": [
        {
          "output_type": "stream",
          "name": "stderr",
          "text": [
            "WARNING:rpy2.rinterface_lib.callbacks:R[write to console]: estimating size factors\n",
            "\n",
            "WARNING:rpy2.rinterface_lib.callbacks:R[write to console]: estimating dispersions\n",
            "\n",
            "WARNING:rpy2.rinterface_lib.callbacks:R[write to console]: gene-wise dispersion estimates\n",
            "\n",
            "WARNING:rpy2.rinterface_lib.callbacks:R[write to console]: mean-dispersion relationship\n",
            "\n",
            "WARNING:rpy2.rinterface_lib.callbacks:R[write to console]: final dispersion estimates\n",
            "\n",
            "WARNING:rpy2.rinterface_lib.callbacks:R[write to console]: fitting model and testing\n",
            "\n"
          ]
        }
      ]
    },
    {
      "cell_type": "code",
      "source": [
        "%%R\n",
        "#результаты получаем для разных групп, нужные группы указаны вот тут внизу\n",
        "result_D1_cont_VS_tgf <- results(dataset2, contrast=c(\"groups\",\"D1_cont\",\"D1_tgf\"))\n",
        "result_D20_cont_VS_tgf <- results(dataset2, contrast=c(\"groups\", \"D20_cont\", \"D20_tgf\"))\n",
        "result_Cont_D1_VS_D20 <- results(dataset2, contrast=c(\"groups\", \"D1_cont\", \"D20_cont\"))\n",
        "result_TGF_D1_VS_D20 <- results(dataset2, contrast=c(\"groups\", \"D1_tgf\", \"D20_tgf\"))"
      ],
      "metadata": {
        "id": "lFe6v9DOXuKW"
      },
      "execution_count": 16,
      "outputs": []
    },
    {
      "cell_type": "code",
      "source": [
        "%%R\n",
        "#строим диаграмму эйлера венна аналогично тому, как мы это делали на семинаре\n",
        "de_genes_cont_20vs1 <- row.names(subset(result_Cont_D1_VS_D20, log2FoldChange > 1))\n",
        "de_genes_tgf_20vs1 <- row.names(subset(result_TGF_D1_VS_D20, log2FoldChange > 1))\n",
        "de_genes_d1_tgf <- row.names(subset(result_D1_cont_VS_tgf, log2FoldChange > 1))\n",
        "de_genes_d20_tgf <- row.names(subset(result_D20_cont_VS_tgf, log2FoldChange > 1))\n",
        "\n",
        "# Use VennDiagram package to plot the Venn diagram\n",
        "library(VennDiagram)\n",
        "venn.plot <- venn.diagram(\n",
        "  x = list(\n",
        "    Cont_20vs1 = de_genes_cont_20vs1,\n",
        "    TGF_20vs1 = de_genes_tgf_20vs1,\n",
        "    D1_TGF = de_genes_d1_tgf,\n",
        "    D20_TGF = de_genes_d20_tgf\n",
        "  ),\n",
        "  category.names = c(\"Cont, d20 vs d1\", \"TGF, d20 vs d1\", \"D1, TGF vs Cont\", \"D20, TGF vs Cont\"),\n",
        "  filename = NULL\n",
        ")\n",
        "grid.draw(venn.plot)"
      ],
      "metadata": {
        "id": "f3v891q9amdS",
        "colab": {
          "base_uri": "https://localhost:8080/",
          "height": 566
        },
        "outputId": "bca81037-f74c-4d9f-9622-5de47c6b96a6"
      },
      "execution_count": 17,
      "outputs": [
        {
          "output_type": "stream",
          "name": "stderr",
          "text": [
            "WARNING:rpy2.rinterface_lib.callbacks:R[write to console]: Loading required package: grid\n",
            "\n",
            "WARNING:rpy2.rinterface_lib.callbacks:R[write to console]: Loading required package: futile.logger\n",
            "\n"
          ]
        },
        {
          "output_type": "display_data",
          "data": {
            "image/png": "[encoded data removed]"
          },
          "metadata": {}
        }
      ]
    },
    {
      "cell_type": "code",
      "source": [
        "%%R\n",
        "\n",
        "result_TGF_D1_VS_D20"
      ],
      "metadata": {
        "colab": {
          "base_uri": "https://localhost:8080/"
        },
        "id": "d-aEPWL8yBMH",
        "outputId": "cdd71fc9-f403-412f-bb6f-5dd860acd826"
      },
      "execution_count": 18,
      "outputs": [
        {
          "output_type": "stream",
          "name": "stdout",
          "text": [
            "log2 fold change (MLE): groups D1_tgf vs D20_tgf \n",
            "Wald test p-value: groups D1_tgf vs D20_tgf \n",
            "DataFrame with 12606 rows and 6 columns\n",
            "         baseMean log2FoldChange     lfcSE      stat      pvalue        padj\n",
            "        <numeric>      <numeric> <numeric> <numeric>   <numeric>   <numeric>\n",
            "148398   17.28364      -0.308683 0.5670020 -0.544413 5.86157e-01 6.93376e-01\n",
            "26155  1067.00087       0.710960 0.0840601  8.457761 2.72561e-17 1.32639e-15\n",
            "339451  154.99217       0.214653 0.1659877  1.293188 1.95946e-01 3.01772e-01\n",
            "84069    34.58942       0.157649 0.3053253  0.516332 6.05622e-01 7.09279e-01\n",
            "84808     8.02696       0.536617 0.6221524  0.862516 3.88403e-01 5.12718e-01\n",
            "...           ...            ...       ...       ...         ...         ...\n",
            "7411    879.18533      0.4302526  0.102002  4.218087 2.46384e-05 1.34260e-04\n",
            "116442   18.05568     -3.8974705  0.581535 -6.702034 2.05538e-11 3.79853e-10\n",
            "1193     35.65483     -1.5493335  0.333782 -4.641759 3.45456e-06 2.29582e-05\n",
            "55217   120.95363      0.0633023  0.167546  0.377821 7.05564e-01 7.90824e-01\n",
            "6845      8.76391      1.6742540  1.146015  1.460936 1.44033e-01 2.37306e-01\n"
          ]
        }
      ]
    }
  ],
  "metadata": {
    "colab": {
      "provenance": []
    },
    "kernelspec": {
      "display_name": "Python 3",
      "name": "python3"
    },
    "language_info": {
      "name": "python"
    }
  },
  "nbformat": 4,
  "nbformat_minor": 0
}