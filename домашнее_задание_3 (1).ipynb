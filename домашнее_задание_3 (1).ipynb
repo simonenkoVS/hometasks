{
  "nbformat": 4,
  "nbformat_minor": 0,
  "metadata": {
    "colab": {
      "provenance": []
    },
    "kernelspec": {
      "name": "python3",
      "display_name": "Python 3"
    },
    "language_info": {
      "name": "python"
    }
  },
  "cells": [
    {
      "cell_type": "markdown",
      "source": [
        "# Hometask"
      ],
      "metadata": {
        "id": "npytM_CFCLVp"
      }
    },
    {
      "cell_type": "markdown",
      "source": [
        "## Task 1\n",
        "\n",
        "Number of UMIs per cell in the dataset is distributed (approximately) bimodally. What is the reason for that? Please provide some papers and/or resourses when this phenomenon is described."
      ],
      "metadata": {
        "id": "wLRD9CFGsPUh"
      }
    },
    {
      "cell_type": "markdown",
      "source": [
        "1. Особенность материала: неоднородность самой выборки клеток, а она неоднородна почти всегда: из-за их размера, возраста, вида (в частности, так можно получить данные о новой разновидности клеток), получается что распределение будет иметь два пика.\n",
        "\n",
        "2. Особенность обработки материала: при подготовке получилось много пустых шариков, их плохо отфильтровали, часть клеток повредилась, остались только некоторые ее части, может у нас слишком маленький датасет и по этой причине дуплеты очень сильно влияют на распределение итоговых данных.\n",
        "\n",
        "Статьи, которые я нашла:\n",
        "\n",
        "1. https://hbctraining.github.io/scRNA-seq/lessons/04_SC_quality_control.html (в основном про gene detected per cell)\n",
        "\n",
        "2. Jiang, G., Tu, J., Zhou, L. et al. Single-cell transcriptomics reveal the heterogeneity and dynamic of cancer stem-like cells during breast tumor progression. Cell Death Dis 12, 979 (2021). https://doi.org/10.1038/s41419-021-04261-y\n",
        "\n",
        "3. Zhu, Q., Zhao, X., Zhang, Y. et al. Single cell multi-omics reveal intra-cell-line heterogeneity across human cancer cell lines. Nat Commun 14, 8170 (2023)\n",
        "\n",
        "-----------------\n",
        "\n",
        "4*. Daniel Andersson, Firaol Tamiru Kebede, Mandy Escobar, Tobias Österlund, Anders Ståhlberg,\n",
        "Principles of digital sequencing using unique molecular identifiers,\n",
        "Molecular Aspects of Medicine,\n",
        "Volume 96,\n",
        "2024,\n",
        "101253,\n",
        "ISSN 0098-2997,\n",
        "https://doi.org/10.1016/j.mam.2024.101253."
      ],
      "metadata": {
        "id": "DWX5_s2LkZqi"
      }
    },
    {
      "cell_type": "markdown",
      "source": [
        "## Task 2\n",
        "\n",
        "Using [Cellxgene Portal](https://cellxgene.cziscience.com/) please select the dataset of your scientific interest and perform QC. Are you happy with it? Please save files in `loom` format and describe the features of such a format."
      ],
      "metadata": {
        "id": "sveU7TybseS8"
      }
    },
    {
      "cell_type": "code",
      "source": [
        "!pip install scanpy[leiden] scrublet\n",
        "!gdown \"1Ctq4EmV2ps1dMiFcbqW467ywezRSGGN0&confirm=t\"\n",
        "!unzip PBMC_10k.zip\n",
        "\n",
        "import scanpy as sc\n",
        "import seaborn as sns\n",
        "import numpy as np"
      ],
      "metadata": {
        "colab": {
          "base_uri": "https://localhost:8080/"
        },
        "id": "6k2QQ_thRVdt",
        "outputId": "d9c45bbd-267e-48f7-8e76-3a6ee3f89a4e"
      },
      "execution_count": 1,
      "outputs": [
        {
          "output_type": "stream",
          "name": "stdout",
          "text": [
          ]
        }
      ]
    },
    {
      "cell_type": "markdown",
      "source": [
        "Ссылка на страницу коллекцию: https://cellxgene.cziscience.com/collections/180bff9c-c8a5-4539-b13b-ddbc00d643e6"
      ],
      "metadata": {
        "id": "vv9GIZQjV8LP"
      }
    },
    {
      "cell_type": "code",
      "source": [
        "#загружаем дата сет\n",
        "\n",
        "!wget https://datasets.cellxgene.cziscience.com/455636fa-13c0-41ff-897d-c8a1fe1c7623.h5ad"
      ],
      "metadata": {
        "colab": {
          "base_uri": "https://localhost:8080/"
        },
        "id": "unWQl5A6RPmL",
        "outputId": "78ae633c-3065-48f2-defc-10be1ea12557"
      },
      "execution_count": 2,
      "outputs": [
        {
          "output_type": "stream",
          "name": "stdout",
          "text": [
          ]
        }
      ]
    },
    {
      "cell_type": "code",
      "source": [
        "#считываем его\n",
        "\n",
        "my_data = sc.read_h5ad('/content/455636fa-13c0-41ff-897d-c8a1fe1c7623.h5ad')\n",
        "my_data.var_names_make_unique()"
      ],
      "metadata": {
        "id": "THTZiqKQteZi"
      },
      "execution_count": 3,
      "outputs": []
    },
    {
      "cell_type": "code",
      "source": [
        "#посмотрели что внутри в частности на категории клеток\n",
        "print(my_data.obs.cell_type)"
      ],
      "metadata": {
        "colab": {
          "base_uri": "https://localhost:8080/"
        },
        "id": "ixTx3iOSSZ3o",
        "outputId": "37b31aac-07fe-4d01-8218-2da778cafbf4"
      },
      "execution_count": 4,
      "outputs": [
        {
          "output_type": "stream",
          "name": "stdout",
          "text": [
            "SFG2_AAACCTGAGATGGCGT            oligodendrocyte\n",
            "SFG2_AAACCTGAGCGATCCC            oligodendrocyte\n",
            "SFG2_AAACCTGAGGAATCGC     mature microglial cell\n",
            "SFG2_AAACCTGAGGATGCGT            oligodendrocyte\n",
            "SFG2_AAACCTGAGGCACATG            oligodendrocyte\n",
            "                                   ...          \n",
            "SFG10_TTTGTCACATGACGGA    mature microglial cell\n",
            "SFG10_TTTGTCAGTGTGGTTT           oligodendrocyte\n",
            "SFG10_TTTGTCATCACGGTTA          GABAergic neuron\n",
            "SFG10_TTTGTCATCATACGGT           oligodendrocyte\n",
            "SFG10_TTTGTCATCTTCAACT          endothelial cell\n",
            "Name: cell_type, Length: 63608, dtype: category\n",
            "Categories (7, object): ['endothelial cell', 'oligodendrocyte', 'GABAergic neuron',\n",
            "                         'glutamatergic neuron', 'oligodendrocyte precursor cell', 'mature astrocyte',\n",
            "                         'mature microglial cell']\n"
          ]
        }
      ]
    },
    {
      "cell_type": "code",
      "source": [
        "#и еще посмотрели\n",
        "my_data.var"
      ],
      "metadata": {
        "colab": {
          "base_uri": "https://localhost:8080/",
          "height": 424
        },
        "id": "5KV-FX3oXBfV",
        "outputId": "18efed9f-4889-435e-c5da-9e4a68d2a557"
      },
      "execution_count": 5,
      "outputs": [
        {
          "output_type": "execute_result",
          "data": {
            "text/plain": [
              "                 feature_is_filtered       feature_name feature_reference  \\\n",
              "ENSG00000100568                False              VTI1B    NCBITaxon:9606   \n",
              "ENSG00000101440                False               ASIP    NCBITaxon:9606   \n",
              "ENSG00000249847                False  ENSG00000249847.1    NCBITaxon:9606   \n",
              "ENSG00000136630                False                HLX    NCBITaxon:9606   \n",
              "ENSG00000231731                False  ENSG00000231731.7    NCBITaxon:9606   \n",
              "...                              ...                ...               ...   \n",
              "ENSG00000163162                False             RNF149    NCBITaxon:9606   \n",
              "ENSG00000185189                False              NRBP2    NCBITaxon:9606   \n",
              "ENSG00000188352                False              FOCAD    NCBITaxon:9606   \n",
              "ENSG00000008394                False              MGST1    NCBITaxon:9606   \n",
              "ENSG00000267658                False          RAB5C-AS1    NCBITaxon:9606   \n",
              "\n",
              "                feature_biotype feature_length  \n",
              "ENSG00000100568            gene           5768  \n",
              "ENSG00000101440            gene            845  \n",
              "ENSG00000249847            gene            646  \n",
              "ENSG00000136630            gene           5629  \n",
              "ENSG00000231731            gene           5510  \n",
              "...                         ...            ...  \n",
              "ENSG00000163162            gene           5326  \n",
              "ENSG00000185189            gene           4934  \n",
              "ENSG00000188352            gene           9754  \n",
              "ENSG00000008394            gene           7441  \n",
              "ENSG00000267658            gene            425  \n",
              "\n",
              "[32743 rows x 5 columns]"
            ],
            "text/html": [
              "\n",
              "  <div id=\"df-9597c1c2-e2b0-4cab-b329-b5808712d9c7\" class=\"colab-df-container\">\n",
              "    <div>\n",
              "<style scoped>\n",
              "    .dataframe tbody tr th:only-of-type {\n",
              "        vertical-align: middle;\n",
              "    }\n",
              "\n",
              "    .dataframe tbody tr th {\n",
              "        vertical-align: top;\n",
              "    }\n",
              "\n",
              "    .dataframe thead th {\n",
              "        text-align: right;\n",
              "    }\n",
              "</style>\n",
              "<table border=\"1\" class=\"dataframe\">\n",
              "  <thead>\n",
              "    <tr style=\"text-align: right;\">\n",
              "      <th></th>\n",
              "      <th>feature_is_filtered</th>\n",
              "      <th>feature_name</th>\n",
              "      <th>feature_reference</th>\n",
              "      <th>feature_biotype</th>\n",
              "      <th>feature_length</th>\n",
              "    </tr>\n",
              "  </thead>\n",
              "  <tbody>\n",
              "    <tr>\n",
              "      <th>ENSG00000100568</th>\n",
              "      <td>False</td>\n",
              "      <td>VTI1B</td>\n",
              "      <td>NCBITaxon:9606</td>\n",
              "      <td>gene</td>\n",
              "      <td>5768</td>\n",
              "    </tr>\n",
              "    <tr>\n",
              "      <th>ENSG00000101440</th>\n",
              "      <td>False</td>\n",
              "      <td>ASIP</td>\n",
              "      <td>NCBITaxon:9606</td>\n",
              "      <td>gene</td>\n",
              "      <td>845</td>\n",
              "    </tr>\n",
              "    <tr>\n",
              "      <th>ENSG00000249847</th>\n",
              "      <td>False</td>\n",
              "      <td>ENSG00000249847.1</td>\n",
              "      <td>NCBITaxon:9606</td>\n",
              "      <td>gene</td>\n",
              "      <td>646</td>\n",
              "    </tr>\n",
              "    <tr>\n",
              "      <th>ENSG00000136630</th>\n",
              "      <td>False</td>\n",
              "      <td>HLX</td>\n",
              "      <td>NCBITaxon:9606</td>\n",
              "      <td>gene</td>\n",
              "      <td>5629</td>\n",
              "    </tr>\n",
              "    <tr>\n",
              "      <th>ENSG00000231731</th>\n",
              "      <td>False</td>\n",
              "      <td>ENSG00000231731.7</td>\n",
              "      <td>NCBITaxon:9606</td>\n",
              "      <td>gene</td>\n",
              "      <td>5510</td>\n",
              "    </tr>\n",
              "    <tr>\n",
              "      <th>...</th>\n",
              "      <td>...</td>\n",
              "      <td>...</td>\n",
              "      <td>...</td>\n",
              "      <td>...</td>\n",
              "      <td>...</td>\n",
              "    </tr>\n",
              "    <tr>\n",
              "      <th>ENSG00000163162</th>\n",
              "      <td>False</td>\n",
              "      <td>RNF149</td>\n",
              "      <td>NCBITaxon:9606</td>\n",
              "      <td>gene</td>\n",
              "      <td>5326</td>\n",
              "    </tr>\n",
              "    <tr>\n",
              "      <th>ENSG00000185189</th>\n",
              "      <td>False</td>\n",
              "      <td>NRBP2</td>\n",
              "      <td>NCBITaxon:9606</td>\n",
              "      <td>gene</td>\n",
              "      <td>4934</td>\n",
              "    </tr>\n",
              "    <tr>\n",
              "      <th>ENSG00000188352</th>\n",
              "      <td>False</td>\n",
              "      <td>FOCAD</td>\n",
              "      <td>NCBITaxon:9606</td>\n",
              "      <td>gene</td>\n",
              "      <td>9754</td>\n",
              "    </tr>\n",
              "    <tr>\n",
              "      <th>ENSG00000008394</th>\n",
              "      <td>False</td>\n",
              "      <td>MGST1</td>\n",
              "      <td>NCBITaxon:9606</td>\n",
              "      <td>gene</td>\n",
              "      <td>7441</td>\n",
              "    </tr>\n",
              "    <tr>\n",
              "      <th>ENSG00000267658</th>\n",
              "      <td>False</td>\n",
              "      <td>RAB5C-AS1</td>\n",
              "      <td>NCBITaxon:9606</td>\n",
              "      <td>gene</td>\n",
              "      <td>425</td>\n",
              "    </tr>\n",
              "  </tbody>\n",
              "</table>\n",
              "<p>32743 rows × 5 columns</p>\n",
              "</div>\n",
              "    <div class=\"colab-df-buttons\">\n",
              "\n",
              "  <div class=\"colab-df-container\">\n",
              "    <button class=\"colab-df-convert\" onclick=\"convertToInteractive('df-9597c1c2-e2b0-4cab-b329-b5808712d9c7')\"\n",
              "            title=\"Convert this dataframe to an interactive table.\"\n",
              "            style=\"display:none;\">\n",
              "\n",
              "  <svg xmlns=\"http://www.w3.org/2000/svg\" height=\"24px\" viewBox=\"0 -960 960 960\">\n",
              "    <path d=\"M120-120v-720h720v720H120Zm60-500h600v-160H180v160Zm220 220h160v-160H400v160Zm0 220h160v-160H400v160ZM180-400h160v-160H180v160Zm440 0h160v-160H620v160ZM180-180h160v-160H180v160Zm440 0h160v-160H620v160Z\"/>\n",
              "  </svg>\n",
              "    </button>\n",
              "\n",
              "  <style>\n",
              "    .colab-df-container {\n",
              "      display:flex;\n",
              "      gap: 12px;\n",
              "    }\n",
              "\n",
              "    .colab-df-convert {\n",
              "      background-color: #E8F0FE;\n",
              "      border: none;\n",
              "      border-radius: 50%;\n",
              "      cursor: pointer;\n",
              "      display: none;\n",
              "      fill: #1967D2;\n",
              "      height: 32px;\n",
              "      padding: 0 0 0 0;\n",
              "      width: 32px;\n",
              "    }\n",
              "\n",
              "    .colab-df-convert:hover {\n",
              "      background-color: #E2EBFA;\n",
              "      box-shadow: 0px 1px 2px rgba(60, 64, 67, 0.3), 0px 1px 3px 1px rgba(60, 64, 67, 0.15);\n",
              "      fill: #174EA6;\n",
              "    }\n",
              "\n",
              "    .colab-df-buttons div {\n",
              "      margin-bottom: 4px;\n",
              "    }\n",
              "\n",
              "    [theme=dark] .colab-df-convert {\n",
              "      background-color: #3B4455;\n",
              "      fill: #D2E3FC;\n",
              "    }\n",
              "\n",
              "    [theme=dark] .colab-df-convert:hover {\n",
              "      background-color: #434B5C;\n",
              "      box-shadow: 0px 1px 3px 1px rgba(0, 0, 0, 0.15);\n",
              "      filter: drop-shadow(0px 1px 2px rgba(0, 0, 0, 0.3));\n",
              "      fill: #FFFFFF;\n",
              "    }\n",
              "  </style>\n",
              "\n",
              "    <script>\n",
              "      const buttonEl =\n",
              "        document.querySelector('#df-9597c1c2-e2b0-4cab-b329-b5808712d9c7 button.colab-df-convert');\n",
              "      buttonEl.style.display =\n",
              "        google.colab.kernel.accessAllowed ? 'block' : 'none';\n",
              "\n",
              "      async function convertToInteractive(key) {\n",
              "        const element = document.querySelector('#df-9597c1c2-e2b0-4cab-b329-b5808712d9c7');\n",
              "        const dataTable =\n",
              "          await google.colab.kernel.invokeFunction('convertToInteractive',\n",
              "                                                    [key], {});\n",
              "        if (!dataTable) return;\n",
              "\n",
              "        const docLinkHtml = 'Like what you see? Visit the ' +\n",
              "          '<a target=\"_blank\" href=https://colab.research.google.com/notebooks/data_table.ipynb>data table notebook</a>'\n",
              "          + ' to learn more about interactive tables.';\n",
              "        element.innerHTML = '';\n",
              "        dataTable['output_type'] = 'display_data';\n",
              "        await google.colab.output.renderOutput(dataTable, element);\n",
              "        const docLink = document.createElement('div');\n",
              "        docLink.innerHTML = docLinkHtml;\n",
              "        element.appendChild(docLink);\n",
              "      }\n",
              "    </script>\n",
              "  </div>\n",
              "\n",
              "\n",
              "<div id=\"df-2dfa2a1b-deba-49da-ad85-d1d5c4149941\">\n",
              "  <button class=\"colab-df-quickchart\" onclick=\"quickchart('df-2dfa2a1b-deba-49da-ad85-d1d5c4149941')\"\n",
              "            title=\"Suggest charts\"\n",
              "            style=\"display:none;\">\n",
              "\n",
              "<svg xmlns=\"http://www.w3.org/2000/svg\" height=\"24px\"viewBox=\"0 0 24 24\"\n",
              "     width=\"24px\">\n",
              "    <g>\n",
              "        <path d=\"M19 3H5c-1.1 0-2 .9-2 2v14c0 1.1.9 2 2 2h14c1.1 0 2-.9 2-2V5c0-1.1-.9-2-2-2zM9 17H7v-7h2v7zm4 0h-2V7h2v10zm4 0h-2v-4h2v4z\"/>\n",
              "    </g>\n",
              "</svg>\n",
              "  </button>\n",
              "\n",
              "<style>\n",
              "  .colab-df-quickchart {\n",
              "      --bg-color: #E8F0FE;\n",
              "      --fill-color: #1967D2;\n",
              "      --hover-bg-color: #E2EBFA;\n",
              "      --hover-fill-color: #174EA6;\n",
              "      --disabled-fill-color: #AAA;\n",
              "      --disabled-bg-color: #DDD;\n",
              "  }\n",
              "\n",
              "  [theme=dark] .colab-df-quickchart {\n",
              "      --bg-color: #3B4455;\n",
              "      --fill-color: #D2E3FC;\n",
              "      --hover-bg-color: #434B5C;\n",
              "      --hover-fill-color: #FFFFFF;\n",
              "      --disabled-bg-color: #3B4455;\n",
              "      --disabled-fill-color: #666;\n",
              "  }\n",
              "\n",
              "  .colab-df-quickchart {\n",
              "    background-color: var(--bg-color);\n",
              "    border: none;\n",
              "    border-radius: 50%;\n",
              "    cursor: pointer;\n",
              "    display: none;\n",
              "    fill: var(--fill-color);\n",
              "    height: 32px;\n",
              "    padding: 0;\n",
              "    width: 32px;\n",
              "  }\n",
              "\n",
              "  .colab-df-quickchart:hover {\n",
              "    background-color: var(--hover-bg-color);\n",
              "    box-shadow: 0 1px 2px rgba(60, 64, 67, 0.3), 0 1px 3px 1px rgba(60, 64, 67, 0.15);\n",
              "    fill: var(--button-hover-fill-color);\n",
              "  }\n",
              "\n",
              "  .colab-df-quickchart-complete:disabled,\n",
              "  .colab-df-quickchart-complete:disabled:hover {\n",
              "    background-color: var(--disabled-bg-color);\n",
              "    fill: var(--disabled-fill-color);\n",
              "    box-shadow: none;\n",
              "  }\n",
              "\n",
              "  .colab-df-spinner {\n",
              "    border: 2px solid var(--fill-color);\n",
              "    border-color: transparent;\n",
              "    border-bottom-color: var(--fill-color);\n",
              "    animation:\n",
              "      spin 1s steps(1) infinite;\n",
              "  }\n",
              "\n",
              "  @keyframes spin {\n",
              "    0% {\n",
              "      border-color: transparent;\n",
              "      border-bottom-color: var(--fill-color);\n",
              "      border-left-color: var(--fill-color);\n",
              "    }\n",
              "    20% {\n",
              "      border-color: transparent;\n",
              "      border-left-color: var(--fill-color);\n",
              "      border-top-color: var(--fill-color);\n",
              "    }\n",
              "    30% {\n",
              "      border-color: transparent;\n",
              "      border-left-color: var(--fill-color);\n",
              "      border-top-color: var(--fill-color);\n",
              "      border-right-color: var(--fill-color);\n",
              "    }\n",
              "    40% {\n",
              "      border-color: transparent;\n",
              "      border-right-color: var(--fill-color);\n",
              "      border-top-color: var(--fill-color);\n",
              "    }\n",
              "    60% {\n",
              "      border-color: transparent;\n",
              "      border-right-color: var(--fill-color);\n",
              "    }\n",
              "    80% {\n",
              "      border-color: transparent;\n",
              "      border-right-color: var(--fill-color);\n",
              "      border-bottom-color: var(--fill-color);\n",
              "    }\n",
              "    90% {\n",
              "      border-color: transparent;\n",
              "      border-bottom-color: var(--fill-color);\n",
              "    }\n",
              "  }\n",
              "</style>\n",
              "\n",
              "  <script>\n",
              "    async function quickchart(key) {\n",
              "      const quickchartButtonEl =\n",
              "        document.querySelector('#' + key + ' button');\n",
              "      quickchartButtonEl.disabled = true;  // To prevent multiple clicks.\n",
              "      quickchartButtonEl.classList.add('colab-df-spinner');\n",
              "      try {\n",
              "        const charts = await google.colab.kernel.invokeFunction(\n",
              "            'suggestCharts', [key], {});\n",
              "      } catch (error) {\n",
              "        console.error('Error during call to suggestCharts:', error);\n",
              "      }\n",
              "      quickchartButtonEl.classList.remove('colab-df-spinner');\n",
              "      quickchartButtonEl.classList.add('colab-df-quickchart-complete');\n",
              "    }\n",
              "    (() => {\n",
              "      let quickchartButtonEl =\n",
              "        document.querySelector('#df-2dfa2a1b-deba-49da-ad85-d1d5c4149941 button');\n",
              "      quickchartButtonEl.style.display =\n",
              "        google.colab.kernel.accessAllowed ? 'block' : 'none';\n",
              "    })();\n",
              "  </script>\n",
              "</div>\n",
              "    </div>\n",
              "  </div>\n"
            ],
            "application/vnd.google.colaboratory.intrinsic+json": {
              "type": "dataframe",
              "summary": "{\n  \"name\": \"my_data\",\n  \"rows\": 32743,\n  \"fields\": [\n    {\n      \"column\": \"feature_is_filtered\",\n      \"properties\": {\n        \"dtype\": \"boolean\",\n        \"num_unique_values\": 1,\n        \"samples\": [\n          false\n        ],\n        \"semantic_type\": \"\",\n        \"description\": \"\"\n      }\n    },\n    {\n      \"column\": \"feature_name\",\n      \"properties\": {\n        \"dtype\": \"category\",\n        \"num_unique_values\": 32743,\n        \"samples\": [\n          \"ZNF518A\"\n        ],\n        \"semantic_type\": \"\",\n        \"description\": \"\"\n      }\n    },\n    {\n      \"column\": \"feature_reference\",\n      \"properties\": {\n        \"dtype\": \"category\",\n        \"num_unique_values\": 1,\n        \"samples\": [\n          \"NCBITaxon:9606\"\n        ],\n        \"semantic_type\": \"\",\n        \"description\": \"\"\n      }\n    },\n    {\n      \"column\": \"feature_biotype\",\n      \"properties\": {\n        \"dtype\": \"category\",\n        \"num_unique_values\": 1,\n        \"samples\": [\n          \"gene\"\n        ],\n        \"semantic_type\": \"\",\n        \"description\": \"\"\n      }\n    },\n    {\n      \"column\": \"feature_length\",\n      \"properties\": {\n        \"dtype\": \"category\",\n        \"num_unique_values\": 10718,\n        \"samples\": [\n          7508\n        ],\n        \"semantic_type\": \"\",\n        \"description\": \"\"\n      }\n    }\n  ]\n}"
            }
          },
          "metadata": {},
          "execution_count": 5
        }
      ]
    },
    {
      "cell_type": "code",
      "source": [
        "#берем интересную нам категорию\n",
        "\n",
        "oli_data = my_data[my_data.obs.cell_type == 'oligodendrocyte']\n",
        "oli_data.shape"
      ],
      "metadata": {
        "colab": {
          "base_uri": "https://localhost:8080/"
        },
        "id": "O4Gekf8FWcqL",
        "outputId": "84200181-cdae-4d48-c9bf-8f06df8ed2bc"
      },
      "execution_count": 6,
      "outputs": [
        {
          "output_type": "execute_result",
          "data": {
            "text/plain": [
              "(18360, 32743)"
            ]
          },
          "metadata": {},
          "execution_count": 6
        }
      ]
    },
    {
      "cell_type": "code",
      "source": [
        "sc.pp.calculate_qc_metrics(\n",
        "    oli_data,\n",
        "    inplace=True,\n",
        "    log1p=False,\n",
        "    percent_top=None,\n",
        ")"
      ],
      "metadata": {
        "id": "4myx3S8XWy6R",
        "colab": {
          "base_uri": "https://localhost:8080/"
        },
        "outputId": "4a985b9b-27b1-4e37-9493-c4bc1ad15844"
      },
      "execution_count": 7,
      "outputs": [
        {
          "output_type": "stream",
          "name": "stderr",
          "text": [
          ]
        }
      ]
    },
    {
      "cell_type": "code",
      "source": [
        "import matplotlib.pyplot as plt\n",
        "# ок только пик у нуля\n",
        "\n",
        "my_data1 = oli_data\n",
        "\n",
        "fig, axes = plt.subplots(ncols=2, nrows=1, figsize=(8, 6))\n",
        "\n",
        "sns.histplot(my_data1.obs.total_counts, ax=axes[0], bins=100)\n",
        "sns.histplot(my_data1.obs.n_genes_by_counts, ax=axes[1], bins=100)\n",
        "\n",
        "plt.suptitle(f\"total number of cells: {len(my_data1)}\")\n",
        "\n",
        "fig.tight_layout()"
      ],
      "metadata": {
        "id": "gLcoLCh8_e14",
        "colab": {
          "base_uri": "https://localhost:8080/",
          "height": 609
        },
        "outputId": "21d1f9d8-82f9-4b5a-e5a3-b8475056d6cc"
      },
      "execution_count": 8,
      "outputs": [
        {
          "output_type": "display_data",
          "data": {
            "text/plain": [
              "<Figure size 800x600 with 2 Axes>"
            ],
            "image/png": "[encoded data removed]"
          },
          "metadata": {}
        }
      ]
    },
    {
      "cell_type": "code",
      "source": [
        "# Step 2: doublets filtration\n",
        "# import scrublet as scr\n",
        "\n",
        "# scrub = scr.Scrublet(my_data1)"
      ],
      "metadata": {
        "id": "07aj4Z72F8aF"
      },
      "execution_count": 9,
      "outputs": []
    },
    {
      "cell_type": "code",
      "source": [
        "# print('Running UMAP...')\n",
        "# scrub.set_embedding('UMAP', scr.get_umap(scrub.manifold_obs_, 10, min_dist=0.4))\n",
        "\n",
        "# print('Done.')"
      ],
      "metadata": {
        "id": "7mdLw5vcVZ1l"
      },
      "execution_count": 10,
      "outputs": []
    },
    {
      "cell_type": "code",
      "source": [
        "# scrub.plot_embedding('UMAP', order_points=True);"
      ],
      "metadata": {
        "id": "a_cDAyPQdSRH"
      },
      "execution_count": 11,
      "outputs": []
    },
    {
      "cell_type": "code",
      "source": [
        "# UMI per cell distribution\n",
        "\n",
        "counts_per_cell = my_data1.X.sum(axis=1).A.T[0]\n",
        "sns.histplot(counts_per_cell)"
      ],
      "metadata": {
        "colab": {
          "base_uri": "https://localhost:8080/",
          "height": 447
        },
        "id": "FAbYSsf2a3cp",
        "outputId": "1c23a452-93ef-4df4-993d-844badfc1062"
      },
      "execution_count": 12,
      "outputs": [
        {
          "output_type": "execute_result",
          "data": {
            "text/plain": [
              "<Axes: ylabel='Count'>"
            ]
          },
          "metadata": {},
          "execution_count": 12
        },
        {
          "output_type": "display_data",
          "data": {
            "text/plain": [
              "<Figure size 640x480 with 1 Axes>"
            ],
            "image/png": "[encoded data removed]"
          },
          "metadata": {}
        }
      ]
    },
    {
      "cell_type": "markdown",
      "source": [
        "http://loompy.org/#:~:text=Loom%20files%20contain%20a%20main,MATLAB%2C%20Mathematica%2C%20and%20Julia.\n",
        "\n",
        "\n",
        "Key features:\n",
        "\n",
        "* Single file that can be moved around\n",
        "\n",
        "* Metadata travels with the main data\n",
        "\n",
        "* Data, clustering, layout, annotation stored together\n",
        "\n",
        "* Out-of-memory data processing\n",
        "\n",
        "* Open source\n"
      ],
      "metadata": {
        "id": "uRMrtKwsGYJZ"
      }
    },
    {
      "cell_type": "code",
      "source": [
        "!pip install -U loompy\n",
        "import loompy"
      ],
      "metadata": {
        "colab": {
          "base_uri": "https://localhost:8080/"
        },
        "id": "C54x3diZyRpr",
        "outputId": "6eb00039-1c22-4a1c-9783-83426a72ae67"
      },
      "execution_count": 13,
      "outputs": [
        {
          "output_type": "stream",
          "name": "stdout",
          "text": [
          ]
        },
        {
          "output_type": "stream",
          "name": "stderr",
          "text": [
          ]
        }
      ]
    },
    {
      "cell_type": "code",
      "source": [
        "oli_data.write_loom(filename = 'new_file.loom', write_obsm_varm=True)"
      ],
      "metadata": {
        "id": "Yg22GtfkHNLQ"
      },
      "execution_count": 16,
      "outputs": []
    }
  ]
}
